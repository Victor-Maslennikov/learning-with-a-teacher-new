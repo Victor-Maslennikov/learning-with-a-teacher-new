{
 "cells": [
  {
   "cell_type": "markdown",
   "metadata": {
    "toc": true
   },
   "source": [
    "<h1>Содержание<span class=\"tocSkip\"></span></h1>\n",
    "<div class=\"toc\"><ul class=\"toc-item\"><li><span><a href=\"#Подготовка-данных\" data-toc-modified-id=\"Подготовка-данных-1\"><span class=\"toc-item-num\">1&nbsp;&nbsp;</span>Подготовка данных</a></span><ul class=\"toc-item\"><li><span><a href=\"#Описание-данных\" data-toc-modified-id=\"Описание-данных-1.1\"><span class=\"toc-item-num\">1.1&nbsp;&nbsp;</span>Описание данных</a></span></li><li><span><a href=\"#Предобработка-данных\" data-toc-modified-id=\"Предобработка-данных-1.2\"><span class=\"toc-item-num\">1.2&nbsp;&nbsp;</span>Предобработка данных</a></span></li><li><span><a href=\"#Разделение-данных-на-выборки\" data-toc-modified-id=\"Разделение-данных-на-выборки-1.3\"><span class=\"toc-item-num\">1.3&nbsp;&nbsp;</span>Разделение данных на выборки</a></span></li></ul></li><li><span><a href=\"#Исследование-задачи\" data-toc-modified-id=\"Исследование-задачи-2\"><span class=\"toc-item-num\">2&nbsp;&nbsp;</span>Исследование задачи</a></span><ul class=\"toc-item\"><li><span><a href=\"#Исследование-баланс-классов\" data-toc-modified-id=\"Исследование-баланс-классов-2.1\"><span class=\"toc-item-num\">2.1&nbsp;&nbsp;</span>Исследование баланс классов</a></span></li><li><span><a href=\"#Исследование-модели-без-учёта-дисбаланса\" data-toc-modified-id=\"Исследование-модели-без-учёта-дисбаланса-2.2\"><span class=\"toc-item-num\">2.2&nbsp;&nbsp;</span>Исследование модели без учёта дисбаланса</a></span><ul class=\"toc-item\"><li><span><a href=\"#Модель-дерева-решений\" data-toc-modified-id=\"Модель-дерева-решений-2.2.1\"><span class=\"toc-item-num\">2.2.1&nbsp;&nbsp;</span>Модель дерева решений</a></span></li><li><span><a href=\"#Модель-случайный-лес\" data-toc-modified-id=\"Модель-случайный-лес-2.2.2\"><span class=\"toc-item-num\">2.2.2&nbsp;&nbsp;</span>Модель случайный лес</a></span></li><li><span><a href=\"#Модель-логистической-регрессии\" data-toc-modified-id=\"Модель-логистической-регрессии-2.2.3\"><span class=\"toc-item-num\">2.2.3&nbsp;&nbsp;</span>Модель логистической регрессии</a></span></li></ul></li></ul></li><li><span><a href=\"#Борьба-с-дисбалансом\" data-toc-modified-id=\"Борьба-с-дисбалансом-3\"><span class=\"toc-item-num\">3&nbsp;&nbsp;</span>Борьба с дисбалансом</a></span><ul class=\"toc-item\"><li><span><a href=\"#Улучшение-качества-модели-балансировкой\" data-toc-modified-id=\"Улучшение-качества-модели-балансировкой-3.1\"><span class=\"toc-item-num\">3.1&nbsp;&nbsp;</span>Улучшение качества модели балансировкой</a></span></li><li><span><a href=\"#Улучшение-качества-модели-увеличением-выборки\" data-toc-modified-id=\"Улучшение-качества-модели-увеличением-выборки-3.2\"><span class=\"toc-item-num\">3.2&nbsp;&nbsp;</span>Улучшение качества модели увеличением выборки</a></span></li><li><span><a href=\"#Улучшение-качества-модели-уменьшением-выборки\" data-toc-modified-id=\"Улучшение-качества-модели-уменьшением-выборки-3.3\"><span class=\"toc-item-num\">3.3&nbsp;&nbsp;</span>Улучшение качества модели уменьшением выборки</a></span></li><li><span><a href=\"#Результаты-исследования\" data-toc-modified-id=\"Результаты-исследования-3.4\"><span class=\"toc-item-num\">3.4&nbsp;&nbsp;</span>Результаты исследования</a></span></li></ul></li><li><span><a href=\"#Тестирование-модели\" data-toc-modified-id=\"Тестирование-модели-4\"><span class=\"toc-item-num\">4&nbsp;&nbsp;</span>Тестирование модели</a></span><ul class=\"toc-item\"><li><span><a href=\"#Финальное-тестирование\" data-toc-modified-id=\"Финальное-тестирование-4.1\"><span class=\"toc-item-num\">4.1&nbsp;&nbsp;</span>Финальное тестирование</a></span></li><li><span><a href=\"#Исследование-метрики-AUC-ROC\" data-toc-modified-id=\"Исследование-метрики-AUC-ROC-4.2\"><span class=\"toc-item-num\">4.2&nbsp;&nbsp;</span>Исследование метрики <em>AUC-ROC</em></a></span></li><li><span><a href=\"#Вывод\" data-toc-modified-id=\"Вывод-4.3\"><span class=\"toc-item-num\">4.3&nbsp;&nbsp;</span>Вывод</a></span></li></ul></li><li><span><a href=\"#Чек-лист-готовности-проекта\" data-toc-modified-id=\"Чек-лист-готовности-проекта-5\"><span class=\"toc-item-num\">5&nbsp;&nbsp;</span>Чек-лист готовности проекта</a></span></li></ul></div>"
   ]
  },
  {
   "cell_type": "markdown",
   "metadata": {},
   "source": [
    "# Отток клиентов"
   ]
  },
  {
   "cell_type": "markdown",
   "metadata": {},
   "source": [
    "Из «Бета-Банка» стали уходить клиенты. Каждый месяц. Немного, но заметно. Банковские маркетологи посчитали: сохранять текущих клиентов дешевле, чем привлекать новых.\n",
    "\n",
    "Нужно спрогнозировать, уйдёт клиент из банка в ближайшее время или нет. Вам предоставлены исторические данные о поведении клиентов и расторжении договоров с банком. \n",
    "\n",
    "Постройте модель с предельно большим значением *F1*-меры. Чтобы сдать проект успешно, нужно довести метрику до 0.59. Проверьте *F1*-меру на тестовой выборке самостоятельно.\n",
    "\n",
    "Дополнительно измеряйте *AUC-ROC*, сравнивайте её значение с *F1*-мерой.\n",
    "\n",
    "Источник данных: [https://www.kaggle.com/barelydedicated/bank-customer-churn-modeling](https://www.kaggle.com/barelydedicated/bank-customer-churn-modeling)"
   ]
  },
  {
   "cell_type": "code",
   "execution_count": 1,
   "metadata": {},
   "outputs": [],
   "source": [
    "# импорт пакетов\n",
    "import pandas as pd\n",
    "from sklearn.model_selection import train_test_split\n",
    "from sklearn.metrics import confusion_matrix\n",
    "from sklearn.metrics import accuracy_score \n",
    "from sklearn.metrics import f1_score\n",
    "from sklearn.metrics import roc_curve\n",
    "from sklearn.metrics import roc_auc_score\n",
    "from sklearn.tree import DecisionTreeClassifier \n",
    "from sklearn.ensemble import RandomForestClassifier\n",
    "from sklearn.linear_model import LogisticRegression\n",
    "from sklearn.preprocessing import OrdinalEncoder\n",
    "from sklearn.preprocessing import StandardScaler\n",
    "from sklearn.utils import shuffle\n",
    " \n",
    "import matplotlib.pyplot as plt\n",
    "\n",
    "import numpy as np\n",
    "pd.options.mode.chained_assignment = None"
   ]
  },
  {
   "cell_type": "markdown",
   "metadata": {},
   "source": [
    "## Подготовка данных"
   ]
  },
  {
   "cell_type": "code",
   "execution_count": 2,
   "metadata": {
    "scrolled": false
   },
   "outputs": [
    {
     "data": {
      "text/html": [
       "<div>\n",
       "<style scoped>\n",
       "    .dataframe tbody tr th:only-of-type {\n",
       "        vertical-align: middle;\n",
       "    }\n",
       "\n",
       "    .dataframe tbody tr th {\n",
       "        vertical-align: top;\n",
       "    }\n",
       "\n",
       "    .dataframe thead th {\n",
       "        text-align: right;\n",
       "    }\n",
       "</style>\n",
       "<table border=\"1\" class=\"dataframe\">\n",
       "  <thead>\n",
       "    <tr style=\"text-align: right;\">\n",
       "      <th></th>\n",
       "      <th>RowNumber</th>\n",
       "      <th>CustomerId</th>\n",
       "      <th>Surname</th>\n",
       "      <th>CreditScore</th>\n",
       "      <th>Geography</th>\n",
       "      <th>Gender</th>\n",
       "      <th>Age</th>\n",
       "      <th>Tenure</th>\n",
       "      <th>Balance</th>\n",
       "      <th>NumOfProducts</th>\n",
       "      <th>HasCrCard</th>\n",
       "      <th>IsActiveMember</th>\n",
       "      <th>EstimatedSalary</th>\n",
       "      <th>Exited</th>\n",
       "    </tr>\n",
       "  </thead>\n",
       "  <tbody>\n",
       "    <tr>\n",
       "      <th>0</th>\n",
       "      <td>1</td>\n",
       "      <td>15634602</td>\n",
       "      <td>Hargrave</td>\n",
       "      <td>619</td>\n",
       "      <td>France</td>\n",
       "      <td>Female</td>\n",
       "      <td>42</td>\n",
       "      <td>2.0</td>\n",
       "      <td>0.00</td>\n",
       "      <td>1</td>\n",
       "      <td>1</td>\n",
       "      <td>1</td>\n",
       "      <td>101348.88</td>\n",
       "      <td>1</td>\n",
       "    </tr>\n",
       "    <tr>\n",
       "      <th>1</th>\n",
       "      <td>2</td>\n",
       "      <td>15647311</td>\n",
       "      <td>Hill</td>\n",
       "      <td>608</td>\n",
       "      <td>Spain</td>\n",
       "      <td>Female</td>\n",
       "      <td>41</td>\n",
       "      <td>1.0</td>\n",
       "      <td>83807.86</td>\n",
       "      <td>1</td>\n",
       "      <td>0</td>\n",
       "      <td>1</td>\n",
       "      <td>112542.58</td>\n",
       "      <td>0</td>\n",
       "    </tr>\n",
       "    <tr>\n",
       "      <th>2</th>\n",
       "      <td>3</td>\n",
       "      <td>15619304</td>\n",
       "      <td>Onio</td>\n",
       "      <td>502</td>\n",
       "      <td>France</td>\n",
       "      <td>Female</td>\n",
       "      <td>42</td>\n",
       "      <td>8.0</td>\n",
       "      <td>159660.80</td>\n",
       "      <td>3</td>\n",
       "      <td>1</td>\n",
       "      <td>0</td>\n",
       "      <td>113931.57</td>\n",
       "      <td>1</td>\n",
       "    </tr>\n",
       "    <tr>\n",
       "      <th>3</th>\n",
       "      <td>4</td>\n",
       "      <td>15701354</td>\n",
       "      <td>Boni</td>\n",
       "      <td>699</td>\n",
       "      <td>France</td>\n",
       "      <td>Female</td>\n",
       "      <td>39</td>\n",
       "      <td>1.0</td>\n",
       "      <td>0.00</td>\n",
       "      <td>2</td>\n",
       "      <td>0</td>\n",
       "      <td>0</td>\n",
       "      <td>93826.63</td>\n",
       "      <td>0</td>\n",
       "    </tr>\n",
       "    <tr>\n",
       "      <th>4</th>\n",
       "      <td>5</td>\n",
       "      <td>15737888</td>\n",
       "      <td>Mitchell</td>\n",
       "      <td>850</td>\n",
       "      <td>Spain</td>\n",
       "      <td>Female</td>\n",
       "      <td>43</td>\n",
       "      <td>2.0</td>\n",
       "      <td>125510.82</td>\n",
       "      <td>1</td>\n",
       "      <td>1</td>\n",
       "      <td>1</td>\n",
       "      <td>79084.10</td>\n",
       "      <td>0</td>\n",
       "    </tr>\n",
       "  </tbody>\n",
       "</table>\n",
       "</div>"
      ],
      "text/plain": [
       "   RowNumber  CustomerId   Surname  CreditScore Geography  Gender  Age  \\\n",
       "0          1    15634602  Hargrave          619    France  Female   42   \n",
       "1          2    15647311      Hill          608     Spain  Female   41   \n",
       "2          3    15619304      Onio          502    France  Female   42   \n",
       "3          4    15701354      Boni          699    France  Female   39   \n",
       "4          5    15737888  Mitchell          850     Spain  Female   43   \n",
       "\n",
       "   Tenure    Balance  NumOfProducts  HasCrCard  IsActiveMember  \\\n",
       "0     2.0       0.00              1          1               1   \n",
       "1     1.0   83807.86              1          0               1   \n",
       "2     8.0  159660.80              3          1               0   \n",
       "3     1.0       0.00              2          0               0   \n",
       "4     2.0  125510.82              1          1               1   \n",
       "\n",
       "   EstimatedSalary  Exited  \n",
       "0        101348.88       1  \n",
       "1        112542.58       0  \n",
       "2        113931.57       1  \n",
       "3         93826.63       0  \n",
       "4         79084.10       0  "
      ]
     },
     "metadata": {},
     "output_type": "display_data"
    }
   ],
   "source": [
    "data = pd.read_csv('/datasets/Churn.csv')\n",
    "display(data.head())"
   ]
  },
  {
   "cell_type": "code",
   "execution_count": 3,
   "metadata": {
    "scrolled": false
   },
   "outputs": [
    {
     "name": "stdout",
     "output_type": "stream",
     "text": [
      "<class 'pandas.core.frame.DataFrame'>\n",
      "RangeIndex: 10000 entries, 0 to 9999\n",
      "Data columns (total 14 columns):\n",
      " #   Column           Non-Null Count  Dtype  \n",
      "---  ------           --------------  -----  \n",
      " 0   RowNumber        10000 non-null  int64  \n",
      " 1   CustomerId       10000 non-null  int64  \n",
      " 2   Surname          10000 non-null  object \n",
      " 3   CreditScore      10000 non-null  int64  \n",
      " 4   Geography        10000 non-null  object \n",
      " 5   Gender           10000 non-null  object \n",
      " 6   Age              10000 non-null  int64  \n",
      " 7   Tenure           9091 non-null   float64\n",
      " 8   Balance          10000 non-null  float64\n",
      " 9   NumOfProducts    10000 non-null  int64  \n",
      " 10  HasCrCard        10000 non-null  int64  \n",
      " 11  IsActiveMember   10000 non-null  int64  \n",
      " 12  EstimatedSalary  10000 non-null  float64\n",
      " 13  Exited           10000 non-null  int64  \n",
      "dtypes: float64(3), int64(8), object(3)\n",
      "memory usage: 1.1+ MB\n"
     ]
    }
   ],
   "source": []
  },
  {
   "cell_type": "markdown",
   "metadata": {},
   "source": [
    "### Описание данных\n",
    "Таблица `Churn` (отток клиентов):\n",
    "\n",
    "Признаки:\n",
    "* RowNumber — индекс строки в данных\n",
    "* CustomerId — уникальный идентификатор клиента\n",
    "* Surname — фамилия\n",
    "* CreditScore — кредитный рейтинг\n",
    "* Geography — страна проживания\n",
    "* Gender — пол\n",
    "* Age — возраст\n",
    "* Tenure — сколько лет человек является клиентом банка\n",
    "* Balance — баланс на счёте\n",
    "* NumOfProducts — количество продуктов банка, используемых клиентом\n",
    "* HasCrCard — наличие кредитной карты\n",
    "* IsActiveMember — активность клиента\n",
    "* EstimatedSalary — предполагаемая зарплата\n",
    "\n",
    "Целевой признак:\n",
    "* Exited — факт ухода клиента"
   ]
  },
  {
   "cell_type": "markdown",
   "metadata": {},
   "source": [
    "### Предобработка данных"
   ]
  },
  {
   "cell_type": "markdown",
   "metadata": {},
   "source": [
    "Заполним пропуски в столбце `Tenure`. удалим столбец `Surname`, т.к. фамилия для модели не важна."
   ]
  },
  {
   "cell_type": "code",
   "execution_count": 4,
   "metadata": {},
   "outputs": [
    {
     "name": "stdout",
     "output_type": "stream",
     "text": [
      "<class 'pandas.core.frame.DataFrame'>\n",
      "RangeIndex: 10000 entries, 0 to 9999\n",
      "Data columns (total 11 columns):\n",
      " #   Column           Non-Null Count  Dtype  \n",
      "---  ------           --------------  -----  \n",
      " 0   CreditScore      10000 non-null  int64  \n",
      " 1   Geography        10000 non-null  object \n",
      " 2   Gender           10000 non-null  object \n",
      " 3   Age              10000 non-null  int64  \n",
      " 4   Tenure           10000 non-null  float64\n",
      " 5   Balance          10000 non-null  float64\n",
      " 6   NumOfProducts    10000 non-null  int64  \n",
      " 7   HasCrCard        10000 non-null  int64  \n",
      " 8   IsActiveMember   10000 non-null  int64  \n",
      " 9   EstimatedSalary  10000 non-null  float64\n",
      " 10  Exited           10000 non-null  int64  \n",
      "dtypes: float64(3), int64(6), object(2)\n",
      "memory usage: 859.5+ KB\n"
     ]
    }
   ],
   "source": [
    "data['Tenure']=data['Tenure'].fillna(0)\n",
    "#data= data.dropna(subset=['Tenure']) \n",
    "data.drop(['Surname', 'RowNumber', 'CustomerId'], axis=1, inplace=True)\n",
    "data.info()"
   ]
  },
  {
   "cell_type": "markdown",
   "metadata": {},
   "source": [
    "Далее преобразуем категориальные признаки"
   ]
  },
  {
   "cell_type": "code",
   "execution_count": 5,
   "metadata": {},
   "outputs": [
    {
     "data": {
      "text/plain": [
       "array(['France', 'Spain', 'Germany'], dtype=object)"
      ]
     },
     "execution_count": 5,
     "metadata": {},
     "output_type": "execute_result"
    }
   ],
   "source": [
    "data['Geography'].unique()"
   ]
  },
  {
   "cell_type": "code",
   "execution_count": 6,
   "metadata": {
    "scrolled": true
   },
   "outputs": [
    {
     "data": {
      "text/plain": [
       "array(['Female', 'Male'], dtype=object)"
      ]
     },
     "execution_count": 6,
     "metadata": {},
     "output_type": "execute_result"
    }
   ],
   "source": [
    "data['Gender'].unique()"
   ]
  },
  {
   "cell_type": "code",
   "execution_count": 7,
   "metadata": {
    "scrolled": true
   },
   "outputs": [
    {
     "name": "stdout",
     "output_type": "stream",
     "text": [
      "<class 'pandas.core.frame.DataFrame'>\n",
      "RangeIndex: 10000 entries, 0 to 9999\n",
      "Data columns (total 12 columns):\n",
      " #   Column             Non-Null Count  Dtype  \n",
      "---  ------             --------------  -----  \n",
      " 0   CreditScore        10000 non-null  int64  \n",
      " 1   Age                10000 non-null  int64  \n",
      " 2   Tenure             10000 non-null  float64\n",
      " 3   Balance            10000 non-null  float64\n",
      " 4   NumOfProducts      10000 non-null  int64  \n",
      " 5   HasCrCard          10000 non-null  int64  \n",
      " 6   IsActiveMember     10000 non-null  int64  \n",
      " 7   EstimatedSalary    10000 non-null  float64\n",
      " 8   Exited             10000 non-null  int64  \n",
      " 9   Geography_Germany  10000 non-null  uint8  \n",
      " 10  Geography_Spain    10000 non-null  uint8  \n",
      " 11  Gender_Male        10000 non-null  uint8  \n",
      "dtypes: float64(3), int64(6), uint8(3)\n",
      "memory usage: 732.5 KB\n"
     ]
    }
   ],
   "source": [
    "data_ohe=pd.get_dummies(data , drop_first= True )\n",
    "data_ohe.info()"
   ]
  },
  {
   "cell_type": "code",
   "execution_count": 8,
   "metadata": {
    "scrolled": true
   },
   "outputs": [
    {
     "data": {
      "text/html": [
       "<div>\n",
       "<style scoped>\n",
       "    .dataframe tbody tr th:only-of-type {\n",
       "        vertical-align: middle;\n",
       "    }\n",
       "\n",
       "    .dataframe tbody tr th {\n",
       "        vertical-align: top;\n",
       "    }\n",
       "\n",
       "    .dataframe thead th {\n",
       "        text-align: right;\n",
       "    }\n",
       "</style>\n",
       "<table border=\"1\" class=\"dataframe\">\n",
       "  <thead>\n",
       "    <tr style=\"text-align: right;\">\n",
       "      <th></th>\n",
       "      <th>CreditScore</th>\n",
       "      <th>Age</th>\n",
       "      <th>Tenure</th>\n",
       "      <th>Balance</th>\n",
       "      <th>NumOfProducts</th>\n",
       "      <th>HasCrCard</th>\n",
       "      <th>IsActiveMember</th>\n",
       "      <th>EstimatedSalary</th>\n",
       "      <th>Exited</th>\n",
       "      <th>Geography_Germany</th>\n",
       "      <th>Geography_Spain</th>\n",
       "      <th>Gender_Male</th>\n",
       "    </tr>\n",
       "  </thead>\n",
       "  <tbody>\n",
       "    <tr>\n",
       "      <th>0</th>\n",
       "      <td>619</td>\n",
       "      <td>42</td>\n",
       "      <td>2.0</td>\n",
       "      <td>0.00</td>\n",
       "      <td>1</td>\n",
       "      <td>1</td>\n",
       "      <td>1</td>\n",
       "      <td>101348.88</td>\n",
       "      <td>1</td>\n",
       "      <td>0</td>\n",
       "      <td>0</td>\n",
       "      <td>0</td>\n",
       "    </tr>\n",
       "    <tr>\n",
       "      <th>1</th>\n",
       "      <td>608</td>\n",
       "      <td>41</td>\n",
       "      <td>1.0</td>\n",
       "      <td>83807.86</td>\n",
       "      <td>1</td>\n",
       "      <td>0</td>\n",
       "      <td>1</td>\n",
       "      <td>112542.58</td>\n",
       "      <td>0</td>\n",
       "      <td>0</td>\n",
       "      <td>1</td>\n",
       "      <td>0</td>\n",
       "    </tr>\n",
       "    <tr>\n",
       "      <th>2</th>\n",
       "      <td>502</td>\n",
       "      <td>42</td>\n",
       "      <td>8.0</td>\n",
       "      <td>159660.80</td>\n",
       "      <td>3</td>\n",
       "      <td>1</td>\n",
       "      <td>0</td>\n",
       "      <td>113931.57</td>\n",
       "      <td>1</td>\n",
       "      <td>0</td>\n",
       "      <td>0</td>\n",
       "      <td>0</td>\n",
       "    </tr>\n",
       "    <tr>\n",
       "      <th>3</th>\n",
       "      <td>699</td>\n",
       "      <td>39</td>\n",
       "      <td>1.0</td>\n",
       "      <td>0.00</td>\n",
       "      <td>2</td>\n",
       "      <td>0</td>\n",
       "      <td>0</td>\n",
       "      <td>93826.63</td>\n",
       "      <td>0</td>\n",
       "      <td>0</td>\n",
       "      <td>0</td>\n",
       "      <td>0</td>\n",
       "    </tr>\n",
       "    <tr>\n",
       "      <th>4</th>\n",
       "      <td>850</td>\n",
       "      <td>43</td>\n",
       "      <td>2.0</td>\n",
       "      <td>125510.82</td>\n",
       "      <td>1</td>\n",
       "      <td>1</td>\n",
       "      <td>1</td>\n",
       "      <td>79084.10</td>\n",
       "      <td>0</td>\n",
       "      <td>0</td>\n",
       "      <td>1</td>\n",
       "      <td>0</td>\n",
       "    </tr>\n",
       "  </tbody>\n",
       "</table>\n",
       "</div>"
      ],
      "text/plain": [
       "   CreditScore  Age  Tenure    Balance  NumOfProducts  HasCrCard  \\\n",
       "0          619   42     2.0       0.00              1          1   \n",
       "1          608   41     1.0   83807.86              1          0   \n",
       "2          502   42     8.0  159660.80              3          1   \n",
       "3          699   39     1.0       0.00              2          0   \n",
       "4          850   43     2.0  125510.82              1          1   \n",
       "\n",
       "   IsActiveMember  EstimatedSalary  Exited  Geography_Germany  \\\n",
       "0               1        101348.88       1                  0   \n",
       "1               1        112542.58       0                  0   \n",
       "2               0        113931.57       1                  0   \n",
       "3               0         93826.63       0                  0   \n",
       "4               1         79084.10       0                  0   \n",
       "\n",
       "   Geography_Spain  Gender_Male  \n",
       "0                0            0  \n",
       "1                1            0  \n",
       "2                0            0  \n",
       "3                0            0  \n",
       "4                1            0  "
      ]
     },
     "execution_count": 8,
     "metadata": {},
     "output_type": "execute_result"
    }
   ],
   "source": [
    "data_ohe.head()"
   ]
  },
  {
   "cell_type": "markdown",
   "metadata": {},
   "source": [
    "### Разделение данных на выборки"
   ]
  },
  {
   "cell_type": "code",
   "execution_count": 9,
   "metadata": {},
   "outputs": [],
   "source": [
    "features = data_ohe.drop(['Exited'], axis=1)\n",
    "target = data_ohe['Exited']"
   ]
  },
  {
   "cell_type": "code",
   "execution_count": 10,
   "metadata": {},
   "outputs": [],
   "source": [
    "features_train, features_test, target_train, target_test = train_test_split(\n",
    "    features, target, test_size=0.40, random_state=12345)\n",
    "features_test, features_valid, target_test, target_valid = train_test_split(\n",
    "    features_test, target_test, test_size=0.50, random_state=12345)"
   ]
  },
  {
   "cell_type": "markdown",
   "metadata": {},
   "source": [
    "Разделили данные на тренровочную, тестовую и валидационную в пропорциях 60/20/20"
   ]
  },
  {
   "cell_type": "markdown",
   "metadata": {},
   "source": [
    "Масштабируем признаки"
   ]
  },
  {
   "cell_type": "code",
   "execution_count": 11,
   "metadata": {
    "scrolled": true
   },
   "outputs": [],
   "source": [
    "numeric = ['CreditScore', 'Age', 'Tenure', 'Balance', 'NumOfProducts', 'EstimatedSalary']\n",
    "\n",
    "scaler = StandardScaler()\n",
    "scaler.fit(features_train[numeric])\n",
    "features_train[numeric]  = scaler.transform(features_train[numeric])\n",
    "features_test[numeric] = scaler.transform(features_test[numeric]) \n",
    "features_valid[numeric] = scaler.transform(features_valid[numeric]) "
   ]
  },
  {
   "cell_type": "markdown",
   "metadata": {},
   "source": [
    "scaler = StandardScaler()\n",
    "scaler.fit(features_train)\n",
    "features_train = scaler.transform(features_train)\n",
    "features_test = scaler.transform(features_test) \n",
    "features_valid = scaler.transform(features_valid) "
   ]
  },
  {
   "cell_type": "code",
   "execution_count": 12,
   "metadata": {
    "scrolled": true
   },
   "outputs": [
    {
     "data": {
      "text/html": [
       "<div>\n",
       "<style scoped>\n",
       "    .dataframe tbody tr th:only-of-type {\n",
       "        vertical-align: middle;\n",
       "    }\n",
       "\n",
       "    .dataframe tbody tr th {\n",
       "        vertical-align: top;\n",
       "    }\n",
       "\n",
       "    .dataframe thead th {\n",
       "        text-align: right;\n",
       "    }\n",
       "</style>\n",
       "<table border=\"1\" class=\"dataframe\">\n",
       "  <thead>\n",
       "    <tr style=\"text-align: right;\">\n",
       "      <th></th>\n",
       "      <th>CreditScore</th>\n",
       "      <th>Age</th>\n",
       "      <th>Tenure</th>\n",
       "      <th>Balance</th>\n",
       "      <th>NumOfProducts</th>\n",
       "      <th>HasCrCard</th>\n",
       "      <th>IsActiveMember</th>\n",
       "      <th>EstimatedSalary</th>\n",
       "      <th>Geography_Germany</th>\n",
       "      <th>Geography_Spain</th>\n",
       "      <th>Gender_Male</th>\n",
       "    </tr>\n",
       "  </thead>\n",
       "  <tbody>\n",
       "    <tr>\n",
       "      <th>7479</th>\n",
       "      <td>-0.886751</td>\n",
       "      <td>-0.373192</td>\n",
       "      <td>1.104696</td>\n",
       "      <td>1.232271</td>\n",
       "      <td>-0.891560</td>\n",
       "      <td>1</td>\n",
       "      <td>0</td>\n",
       "      <td>-0.187705</td>\n",
       "      <td>0</td>\n",
       "      <td>1</td>\n",
       "      <td>1</td>\n",
       "    </tr>\n",
       "    <tr>\n",
       "      <th>3411</th>\n",
       "      <td>0.608663</td>\n",
       "      <td>-0.183385</td>\n",
       "      <td>1.104696</td>\n",
       "      <td>0.600563</td>\n",
       "      <td>-0.891560</td>\n",
       "      <td>0</td>\n",
       "      <td>0</td>\n",
       "      <td>-0.333945</td>\n",
       "      <td>0</td>\n",
       "      <td>0</td>\n",
       "      <td>0</td>\n",
       "    </tr>\n",
       "    <tr>\n",
       "      <th>6027</th>\n",
       "      <td>2.052152</td>\n",
       "      <td>0.480939</td>\n",
       "      <td>-0.503694</td>\n",
       "      <td>1.027098</td>\n",
       "      <td>0.830152</td>\n",
       "      <td>0</td>\n",
       "      <td>1</td>\n",
       "      <td>1.503095</td>\n",
       "      <td>1</td>\n",
       "      <td>0</td>\n",
       "      <td>1</td>\n",
       "    </tr>\n",
       "    <tr>\n",
       "      <th>1247</th>\n",
       "      <td>-1.457915</td>\n",
       "      <td>-1.417129</td>\n",
       "      <td>0.461340</td>\n",
       "      <td>-1.233163</td>\n",
       "      <td>0.830152</td>\n",
       "      <td>1</td>\n",
       "      <td>0</td>\n",
       "      <td>-1.071061</td>\n",
       "      <td>0</td>\n",
       "      <td>0</td>\n",
       "      <td>1</td>\n",
       "    </tr>\n",
       "    <tr>\n",
       "      <th>3716</th>\n",
       "      <td>0.130961</td>\n",
       "      <td>-1.132419</td>\n",
       "      <td>-0.825373</td>\n",
       "      <td>1.140475</td>\n",
       "      <td>-0.891560</td>\n",
       "      <td>0</td>\n",
       "      <td>0</td>\n",
       "      <td>1.524268</td>\n",
       "      <td>1</td>\n",
       "      <td>0</td>\n",
       "      <td>0</td>\n",
       "    </tr>\n",
       "  </tbody>\n",
       "</table>\n",
       "</div>"
      ],
      "text/plain": [
       "      CreditScore       Age    Tenure   Balance  NumOfProducts  HasCrCard  \\\n",
       "7479    -0.886751 -0.373192  1.104696  1.232271      -0.891560          1   \n",
       "3411     0.608663 -0.183385  1.104696  0.600563      -0.891560          0   \n",
       "6027     2.052152  0.480939 -0.503694  1.027098       0.830152          0   \n",
       "1247    -1.457915 -1.417129  0.461340 -1.233163       0.830152          1   \n",
       "3716     0.130961 -1.132419 -0.825373  1.140475      -0.891560          0   \n",
       "\n",
       "      IsActiveMember  EstimatedSalary  Geography_Germany  Geography_Spain  \\\n",
       "7479               0        -0.187705                  0                1   \n",
       "3411               0        -0.333945                  0                0   \n",
       "6027               1         1.503095                  1                0   \n",
       "1247               0        -1.071061                  0                0   \n",
       "3716               0         1.524268                  1                0   \n",
       "\n",
       "      Gender_Male  \n",
       "7479            1  \n",
       "3411            0  \n",
       "6027            1  \n",
       "1247            1  \n",
       "3716            0  "
      ]
     },
     "execution_count": 12,
     "metadata": {},
     "output_type": "execute_result"
    }
   ],
   "source": [
    "features_train.head()"
   ]
  },
  {
   "cell_type": "markdown",
   "metadata": {},
   "source": [
    "## Исследование задачи"
   ]
  },
  {
   "cell_type": "markdown",
   "metadata": {},
   "source": [
    "### Исследование баланс классов"
   ]
  },
  {
   "cell_type": "code",
   "execution_count": 13,
   "metadata": {
    "scrolled": true
   },
   "outputs": [
    {
     "name": "stdout",
     "output_type": "stream",
     "text": [
      "0    0.7963\n",
      "1    0.2037\n",
      "Name: Exited, dtype: float64\n"
     ]
    },
    {
     "data": {
      "image/png": "[encoded data removed]",
      "text/plain": [
       "<Figure size 432x288 with 1 Axes>"
      ]
     },
     "metadata": {
      "needs_background": "light"
     },
     "output_type": "display_data"
    }
   ],
   "source": [
    "class_frequency =data['Exited'].value_counts(normalize=True )\n",
    "print(class_frequency)\n",
    "class_frequency.plot(kind='bar');"
   ]
  },
  {
   "cell_type": "markdown",
   "metadata": {},
   "source": [
    "Колл-во \"ушедших\" клиентов около 20%."
   ]
  },
  {
   "cell_type": "code",
   "execution_count": 14,
   "metadata": {
    "scrolled": true
   },
   "outputs": [
    {
     "name": "stdout",
     "output_type": "stream",
     "text": [
      "0    0.800667\n",
      "1    0.199333\n",
      "Name: Exited, dtype: float64\n"
     ]
    },
    {
     "data": {
      "image/png": "[encoded data removed]",
      "text/plain": [
       "<Figure size 432x288 with 1 Axes>"
      ]
     },
     "metadata": {
      "needs_background": "light"
     },
     "output_type": "display_data"
    }
   ],
   "source": [
    "class_frequency =target_train.value_counts(normalize=True )\n",
    "print(class_frequency)\n",
    "class_frequency.plot(kind='bar');"
   ]
  },
  {
   "cell_type": "markdown",
   "metadata": {},
   "source": [
    "Частота обучающей выборки близка к общей"
   ]
  },
  {
   "cell_type": "markdown",
   "metadata": {},
   "source": [
    "### Исследование модели без учёта дисбаланса"
   ]
  },
  {
   "cell_type": "markdown",
   "metadata": {},
   "source": [
    "#### Модель дерева решений "
   ]
  },
  {
   "cell_type": "code",
   "execution_count": 15,
   "metadata": {},
   "outputs": [
    {
     "data": {
      "text/plain": [
       "'Лучшая модель дерева решений:'"
      ]
     },
     "metadata": {},
     "output_type": "display_data"
    },
    {
     "data": {
      "text/plain": [
       "DecisionTreeClassifier(max_depth=9, random_state=12345)"
      ]
     },
     "metadata": {},
     "output_type": "display_data"
    },
    {
     "data": {
      "text/plain": [
       "'Лучший F1 результат:'"
      ]
     },
     "metadata": {},
     "output_type": "display_data"
    },
    {
     "data": {
      "text/plain": [
       "0.53781512605042"
      ]
     },
     "metadata": {},
     "output_type": "display_data"
    }
   ],
   "source": [
    "best_model_dtc = None\n",
    "best_f1_result_dtc = 0\n",
    "for depth in range(1, 10):\n",
    "    model_dtc = DecisionTreeClassifier(random_state=12345, max_depth=depth) \n",
    "    model_dtc.fit(features_train, target_train) \n",
    "    predictions_valid = model_dtc.predict(features_valid) \n",
    "    result = f1_score(target_valid, predictions_valid)\n",
    "    if result > best_f1_result_dtc:\n",
    "        best_model_dtc = model_dtc\n",
    "        best_f1_result_dtc = result\n",
    "display('Лучшая модель дерева решений:', best_model_dtc)\n",
    "display('Лучший F1 результат:', best_f1_result_dtc)"
   ]
  },
  {
   "cell_type": "code",
   "execution_count": 16,
   "metadata": {},
   "outputs": [
    {
     "data": {
      "text/plain": [
       "'AUC-ROC модели дерева решений:'"
      ]
     },
     "metadata": {},
     "output_type": "display_data"
    },
    {
     "data": {
      "text/plain": [
       "0.7843565377598487"
      ]
     },
     "metadata": {},
     "output_type": "display_data"
    }
   ],
   "source": [
    "probabilities_valid = best_model_dtc.predict_proba(features_valid)\n",
    "probabilities_one_valid = probabilities_valid[:, 1]\n",
    "auc_roc = roc_auc_score (target_valid, probabilities_one_valid)\n",
    "display('AUC-ROC модели дерева решений:',auc_roc)"
   ]
  },
  {
   "cell_type": "markdown",
   "metadata": {},
   "source": [
    "#### Модель случайный лес "
   ]
  },
  {
   "cell_type": "code",
   "execution_count": 17,
   "metadata": {
    "scrolled": true
   },
   "outputs": [
    {
     "data": {
      "text/plain": [
       "'Лучшая модель случайный лес:'"
      ]
     },
     "metadata": {},
     "output_type": "display_data"
    },
    {
     "data": {
      "text/plain": [
       "RandomForestClassifier(max_depth=7, n_estimators=7, random_state=12345)"
      ]
     },
     "metadata": {},
     "output_type": "display_data"
    },
    {
     "data": {
      "text/plain": [
       "'Лучший F1 результат:'"
      ]
     },
     "metadata": {},
     "output_type": "display_data"
    },
    {
     "data": {
      "text/plain": [
       "0.5203761755485894"
      ]
     },
     "metadata": {},
     "output_type": "display_data"
    }
   ],
   "source": [
    "best_model_rfc = None\n",
    "best_f1_result_rfc = 0\n",
    "for est in range(1, 10):\n",
    "    for depth in range(1, 10):\n",
    "        model_rfc = RandomForestClassifier(random_state=12345, n_estimators=est, max_depth=depth)\n",
    "        model_rfc.fit(features_train, target_train)\n",
    "        predictions_valid = model_rfc.predict(features_valid) \n",
    "        result = f1_score(target_valid, predictions_valid)\n",
    "        if result > best_f1_result_rfc:\n",
    "            best_model_rfc =model_rfc\n",
    "            best_f1_result_rfc =result \n",
    "display('Лучшая модель случайный лес:', best_model_rfc)\n",
    "display('Лучший F1 результат:', best_f1_result_rfc)"
   ]
  },
  {
   "cell_type": "code",
   "execution_count": 18,
   "metadata": {},
   "outputs": [
    {
     "data": {
      "text/plain": [
       "'AUC-ROC модели случайный лес:'"
      ]
     },
     "metadata": {},
     "output_type": "display_data"
    },
    {
     "data": {
      "text/plain": [
       "0.8295338876971117"
      ]
     },
     "metadata": {},
     "output_type": "display_data"
    }
   ],
   "source": [
    "probabilities_valid = best_model_rfc.predict_proba(features_valid)\n",
    "probabilities_one_valid = probabilities_valid[:, 1]\n",
    "auc_roc = roc_auc_score (target_valid, probabilities_one_valid)\n",
    "display('AUC-ROC модели случайный лес:',auc_roc)"
   ]
  },
  {
   "cell_type": "markdown",
   "metadata": {},
   "source": [
    "#### Модель логистической регрессии"
   ]
  },
  {
   "cell_type": "code",
   "execution_count": 19,
   "metadata": {
    "scrolled": false
   },
   "outputs": [
    {
     "data": {
      "text/plain": [
       "'F1 результат логистической регрессии:'"
      ]
     },
     "metadata": {},
     "output_type": "display_data"
    },
    {
     "data": {
      "text/plain": [
       "0.2743055555555555"
      ]
     },
     "metadata": {},
     "output_type": "display_data"
    }
   ],
   "source": [
    "model_lr = LogisticRegression(random_state=12345, solver='lbfgs', max_iter=1000)\n",
    "model_lr.fit(features_train, target_train)\n",
    "predictions_valid = model_lr.predict(features_valid) \n",
    "result_lr = f1_score(target_valid, predictions_valid)\n",
    "display('F1 результат логистической регрессии:', result_lr)"
   ]
  },
  {
   "cell_type": "code",
   "execution_count": 20,
   "metadata": {},
   "outputs": [
    {
     "data": {
      "text/plain": [
       "'AUC-ROC модели случайный лес:'"
      ]
     },
     "metadata": {},
     "output_type": "display_data"
    },
    {
     "data": {
      "text/plain": [
       "0.7387354569453627"
      ]
     },
     "metadata": {},
     "output_type": "display_data"
    }
   ],
   "source": [
    "probabilities_valid = model_lr.predict_proba(features_valid)\n",
    "probabilities_one_valid = probabilities_valid[:, 1]\n",
    "auc_roc = roc_auc_score (target_valid, probabilities_one_valid)\n",
    "display('AUC-ROC модели случайный лес:',auc_roc)"
   ]
  },
  {
   "cell_type": "markdown",
   "metadata": {},
   "source": [
    "## Борьба с дисбалансом"
   ]
  },
  {
   "cell_type": "markdown",
   "metadata": {},
   "source": [
    "Улучшите качество модели, учитывая дисбаланс классов. Обучите разные модели и найдите лучшую. Кратко опишите выводы."
   ]
  },
  {
   "cell_type": "markdown",
   "metadata": {},
   "source": [
    "### Улучшение качества модели балансировкой"
   ]
  },
  {
   "cell_type": "code",
   "execution_count": 21,
   "metadata": {},
   "outputs": [
    {
     "name": "stdout",
     "output_type": "stream",
     "text": [
      "F1: 0.5458015267175572\n"
     ]
    }
   ],
   "source": [
    "model_dtc = DecisionTreeClassifier(max_depth=9,random_state=12345, class_weight='balanced') \n",
    "model_dtc.fit(features_train, target_train) \n",
    "predicted_valid = model_dtc.predict(features_valid)\n",
    "print(\"F1:\", f1_score(target_valid, predicted_valid))"
   ]
  },
  {
   "cell_type": "code",
   "execution_count": 22,
   "metadata": {},
   "outputs": [
    {
     "name": "stdout",
     "output_type": "stream",
     "text": [
      "F1: 0.5939139559286464\n"
     ]
    }
   ],
   "source": [
    "model_rfc = RandomForestClassifier(max_depth=7, n_estimators=7,random_state=12345, class_weight='balanced') \n",
    "model_rfc.fit(features_train, target_train) \n",
    "predicted_valid = model_rfc.predict(features_valid)\n",
    "print(\"F1:\", f1_score(target_valid, predicted_valid))"
   ]
  },
  {
   "cell_type": "code",
   "execution_count": 23,
   "metadata": {
    "scrolled": true
   },
   "outputs": [
    {
     "name": "stdout",
     "output_type": "stream",
     "text": [
      "F1: 0.4797238999137188\n"
     ]
    }
   ],
   "source": [
    "model_lr = LogisticRegression(random_state=12345, solver='lbfgs', max_iter=1000, class_weight='balanced') \n",
    "model_lr.fit(features_train, target_train) \n",
    "predicted_valid = model_lr.predict(features_valid)\n",
    "print(\"F1:\", f1_score(target_valid, predicted_valid))"
   ]
  },
  {
   "cell_type": "markdown",
   "metadata": {},
   "source": [
    "Применив балансировку, Модель случайного леса показала лучшие результаты."
   ]
  },
  {
   "cell_type": "markdown",
   "metadata": {},
   "source": [
    "### Улучшение качества модели увеличением выборки"
   ]
  },
  {
   "cell_type": "markdown",
   "metadata": {},
   "source": [
    "Создадим функцию для увеличения выборки"
   ]
  },
  {
   "cell_type": "code",
   "execution_count": 24,
   "metadata": {},
   "outputs": [],
   "source": [
    "def upsample(features, target, repeat):\n",
    "    features_eros = features[target == 0]\n",
    "    features_ones = features[target == 1]\n",
    "    target_zeros = target[target == 0]\n",
    "    target_ones = target[target == 1]\n",
    "\n",
    "    features_upsampled = pd.concat([features_zeros] + [features_ones] * repeat)\n",
    "    target_upsampled = pd.concat([target_zeros] + [target_ones] * repeat)\n",
    "    \n",
    "    features_upsampled, target_upsampled = shuffle(\n",
    "        features_upsampled, target_upsampled, random_state=12345)\n",
    "    \n",
    "    return features_upsampled, target_upsampled"
   ]
  },
  {
   "cell_type": "code",
   "execution_count": 25,
   "metadata": {},
   "outputs": [],
   "source": [
    "features_upsampled, target_upsampled = upsample(features_train, target_train, 4)"
   ]
  },
  {
   "cell_type": "code",
   "execution_count": 26,
   "metadata": {},
   "outputs": [
    {
     "name": "stdout",
     "output_type": "stream",
     "text": [
      "F1: 0.5473684210526316\n"
     ]
    }
   ],
   "source": [
    "model_dtc = DecisionTreeClassifier(max_depth=9,random_state=12345) \n",
    "model_dtc.fit(features_upsampled, target_upsampled) \n",
    "predicted_valid = model_dtc.predict(features_valid)\n",
    "print(\"F1:\", f1_score(target_valid, predicted_valid))"
   ]
  },
  {
   "cell_type": "code",
   "execution_count": 27,
   "metadata": {},
   "outputs": [
    {
     "name": "stdout",
     "output_type": "stream",
     "text": [
      "F1: 0.5653021442495128\n"
     ]
    }
   ],
   "source": [
    "model_rfc = RandomForestClassifier(max_depth=7, n_estimators=7,random_state=12345, class_weight='balanced') \n",
    "model_rfc.fit(features_upsampled, target_upsampled) \n",
    "predicted_valid = model_rfc.predict(features_valid)\n",
    "print(\"F1:\", f1_score(target_valid, predicted_valid))"
   ]
  },
  {
   "cell_type": "code",
   "execution_count": 28,
   "metadata": {
    "scrolled": false
   },
   "outputs": [
    {
     "name": "stdout",
     "output_type": "stream",
     "text": [
      "F1: 0.4797238999137188\n"
     ]
    }
   ],
   "source": [
    "model_lr = LogisticRegression(random_state=12345, solver='lbfgs', max_iter=1000, class_weight='balanced') \n",
    "model_lr.fit(features_upsampled, target_upsampled) \n",
    "predicted_valid = model_lr.predict(features_valid)\n",
    "print(\"F1:\", f1_score(target_valid, predicted_valid))"
   ]
  },
  {
   "cell_type": "markdown",
   "metadata": {},
   "source": [
    "Увеличив выборку, Модель случайного леса показала сбя хуже чем при балансировке, но все еще лучшие результаты."
   ]
  },
  {
   "cell_type": "markdown",
   "metadata": {},
   "source": [
    "### Улучшение качества модели уменьшением выборки"
   ]
  },
  {
   "cell_type": "markdown",
   "metadata": {},
   "source": [
    "Создадим функцию для уменьшени выборки"
   ]
  },
  {
   "cell_type": "code",
   "execution_count": 29,
   "metadata": {},
   "outputs": [],
   "source": [
    "def downsample(features, target, fraction):\n",
    "    features_zeros = features[target == 0]\n",
    "    features_ones = features[target == 1]\n",
    "    target_zeros = target[target == 0]\n",
    "    target_ones = target[target == 1]\n",
    "\n",
    "    features_downsampled = pd.concat(\n",
    "        [features_zeros.sample(frac=fraction, random_state=12345)] + [features_ones])\n",
    "    target_downsampled = pd.concat(\n",
    "        [target_zeros.sample(frac=fraction, random_state=12345)] + [target_ones])\n",
    "    \n",
    "    features_downsampled, target_downsampled = shuffle(\n",
    "        features_downsampled, target_downsampled, random_state=12345)\n",
    "    \n",
    "    return features_downsampled, target_downsampled"
   ]
  },
  {
   "cell_type": "code",
   "execution_count": 30,
   "metadata": {},
   "outputs": [],
   "source": [
    "features_downsampled, target_downsampled = downsample(features_train, target_train, 0.25)"
   ]
  },
  {
   "cell_type": "code",
   "execution_count": 31,
   "metadata": {},
   "outputs": [
    {
     "name": "stdout",
     "output_type": "stream",
     "text": [
      "F1: 0.5548387096774193\n"
     ]
    }
   ],
   "source": [
    "model_dtc = DecisionTreeClassifier(max_depth=9,random_state=12345) \n",
    "model_dtc.fit(features_downsampled, target_downsampled) \n",
    "predicted_valid = model_dtc.predict(features_valid)\n",
    "print(\"F1:\", f1_score(target_valid, predicted_valid))"
   ]
  },
  {
   "cell_type": "code",
   "execution_count": 32,
   "metadata": {},
   "outputs": [
    {
     "name": "stdout",
     "output_type": "stream",
     "text": [
      "F1: 0.5808823529411764\n"
     ]
    }
   ],
   "source": [
    "model_rfc = RandomForestClassifier(max_depth=7, n_estimators=7,random_state=12345, class_weight='balanced') \n",
    "model_rfc.fit(features_downsampled, target_downsampled) \n",
    "predicted_valid = model_rfc.predict(features_valid)\n",
    "print(\"F1:\", f1_score(target_valid, predicted_valid))"
   ]
  },
  {
   "cell_type": "code",
   "execution_count": 33,
   "metadata": {
    "scrolled": true
   },
   "outputs": [
    {
     "name": "stdout",
     "output_type": "stream",
     "text": [
      "F1: 0.48676345004269855\n"
     ]
    }
   ],
   "source": [
    "model_lr = LogisticRegression(random_state=12345, solver='lbfgs', max_iter=1000, class_weight='balanced') \n",
    "model_lr.fit(features_downsampled, target_downsampled) \n",
    "predicted_valid = model_lr.predict(features_valid)\n",
    "print(\"F1:\", f1_score(target_valid, predicted_valid))"
   ]
  },
  {
   "cell_type": "markdown",
   "metadata": {},
   "source": [
    "Уменьшение выболки улучшило показатели всех моделей, Модель случайного леса показала лучшие результаты."
   ]
  },
  {
   "cell_type": "markdown",
   "metadata": {},
   "source": [
    "### Результаты исследования"
   ]
  },
  {
   "cell_type": "code",
   "execution_count": 34,
   "metadata": {
    "scrolled": true
   },
   "outputs": [
    {
     "name": "stdout",
     "output_type": "stream",
     "text": [
      "F1: 0.5939139559286464\n"
     ]
    }
   ],
   "source": [
    "model_rfc = RandomForestClassifier(max_depth=7, n_estimators=7,random_state=12345, class_weight='balanced') \n",
    "model_rfc.fit(features_train, target_train) \n",
    "predicted_valid = model_rfc.predict(features_valid)\n",
    "print(\"F1:\", f1_score(target_valid, predicted_valid))"
   ]
  },
  {
   "cell_type": "markdown",
   "metadata": {},
   "source": [
    "F1 -мера показала лучгие результаты после применения балансировки у модели случайного леса"
   ]
  },
  {
   "cell_type": "code",
   "execution_count": 35,
   "metadata": {},
   "outputs": [
    {
     "data": {
      "text/plain": [
       "'AUC-ROC модели случайный лес:'"
      ]
     },
     "metadata": {},
     "output_type": "display_data"
    },
    {
     "data": {
      "text/plain": [
       "0.8414434145690639"
      ]
     },
     "metadata": {},
     "output_type": "display_data"
    }
   ],
   "source": [
    "probabilities_valid = model_rfc.predict_proba(features_valid)\n",
    "probabilities_one_valid = probabilities_valid[:, 1]\n",
    "auc_roc = roc_auc_score (target_valid, probabilities_one_valid)\n",
    "display('AUC-ROC модели случайный лес:',auc_roc)"
   ]
  },
  {
   "cell_type": "markdown",
   "metadata": {},
   "source": [
    "## Тестирование модели"
   ]
  },
  {
   "cell_type": "markdown",
   "metadata": {},
   "source": [
    "### Финальное тестирование"
   ]
  },
  {
   "cell_type": "markdown",
   "metadata": {},
   "source": [
    "Проведем финальное тестирование показавше себя лучше всех модели случайного леса"
   ]
  },
  {
   "cell_type": "code",
   "execution_count": 36,
   "metadata": {
    "scrolled": false
   },
   "outputs": [
    {
     "data": {
      "text/plain": [
       "'Результат Модели случайный лес:'"
      ]
     },
     "metadata": {},
     "output_type": "display_data"
    },
    {
     "data": {
      "text/plain": [
       "0.6225026288117771"
      ]
     },
     "metadata": {},
     "output_type": "display_data"
    }
   ],
   "source": [
    "predictions_rfc = model_rfc.predict(features_test) \n",
    "result_rfc = f1_score(target_test, predictions_rfc)\n",
    "display('Результат Модели случайный лес:', result_rfc)"
   ]
  },
  {
   "cell_type": "markdown",
   "metadata": {},
   "source": [
    "### Исследование метрики *AUC-ROC*"
   ]
  },
  {
   "cell_type": "code",
   "execution_count": 37,
   "metadata": {},
   "outputs": [
    {
     "data": {
      "image/png": "[encoded data removed]",
      "text/plain": [
       "<Figure size 432x288 with 1 Axes>"
      ]
     },
     "metadata": {
      "needs_background": "light"
     },
     "output_type": "display_data"
    }
   ],
   "source": [
    "probabilities_test = model_rfc.predict_proba(features_test)\n",
    "probabilities_one_test = probabilities_test[:, 1]\n",
    "\n",
    "fpr, tpr, thresholds = roc_curve(target_test, probabilities_one_test) \n",
    "plt.figure()\n",
    "plt.plot([0, 1], [0, 1], linestyle='--')\n",
    "plt.plot(fpr, tpr)\n",
    "plt.xlim([0.0, 1.0])\n",
    "plt.ylim([0.0, 1.0])\n",
    "plt.xlabel('False Positive Rate')\n",
    "plt.ylabel('True Positive Rate')\n",
    "plt.title('ROC-кривая')\n",
    "\n",
    "plt.show()"
   ]
  },
  {
   "cell_type": "code",
   "execution_count": 38,
   "metadata": {},
   "outputs": [
    {
     "data": {
      "text/plain": [
       "0.8490350473932216"
      ]
     },
     "metadata": {},
     "output_type": "display_data"
    }
   ],
   "source": [
    "probabilities_test = model_rfc.predict_proba(features_test)\n",
    "probabilities_one_test = probabilities_test[:, 1]\n",
    "auc_roc = roc_auc_score (target_test, probabilities_one_test)\n",
    "display(auc_roc)"
   ]
  },
  {
   "cell_type": "markdown",
   "metadata": {},
   "source": [
    "### Вывод"
   ]
  },
  {
   "cell_type": "markdown",
   "metadata": {},
   "source": [
    "Наилучший результат показала Модель Случайного леса с пименением балансировки данных. на тестовой выборке модель показала F1-меру в размере 0,62 и AUC-ROC метрику 0,5"
   ]
  },
  {
   "cell_type": "markdown",
   "metadata": {},
   "source": [
    "## Чек-лист готовности проекта"
   ]
  },
  {
   "cell_type": "markdown",
   "metadata": {},
   "source": [
    "Поставьте 'x' в выполненных пунктах. Далее нажмите Shift+Enter."
   ]
  },
  {
   "cell_type": "markdown",
   "metadata": {},
   "source": [
    "- [x]  Jupyter Notebook открыт\n",
    "- [x]  Весь код выполняется без ошибок\n",
    "- [x]  Ячейки с кодом расположены в порядке исполнения\n",
    "- [x]  Выполнен шаг 1: данные подготовлены\n",
    "- [x]  Выполнен шаг 2: задача исследована\n",
    "    - [x]  Исследован баланс классов\n",
    "    - [x]  Изучены модели без учёта дисбаланса\n",
    "    - [x]  Написаны выводы по результатам исследования\n",
    "- [x]  Выполнен шаг 3: учтён дисбаланс\n",
    "    - [x]  Применено несколько способов борьбы с дисбалансом\n",
    "    - [x]  Написаны выводы по результатам исследования\n",
    "- [x]  Выполнен шаг 4: проведено тестирование\n",
    "- [x]  Удалось достичь *F1*-меры не менее 0.59\n",
    "- [x]  Исследована метрика *AUC-ROC*"
   ]
  },
  {
   "cell_type": "code",
   "execution_count": null,
   "metadata": {},
   "outputs": [],
   "source": []
  }
 ],
 "metadata": {
  "ExecuteTimeLog": [
   {
    "duration": 439,
    "start_time": "2022-09-01T19:09:58.652Z"
   },
   {
    "duration": 7,
    "start_time": "2022-09-01T19:10:06.067Z"
   },
   {
    "duration": 3,
    "start_time": "2022-09-01T19:12:16.405Z"
   },
   {
    "duration": 184,
    "start_time": "2022-09-01T19:20:05.942Z"
   },
   {
    "duration": 14,
    "start_time": "2022-09-01T19:20:38.916Z"
   },
   {
    "duration": 48,
    "start_time": "2022-09-01T19:20:58.149Z"
   },
   {
    "duration": 10,
    "start_time": "2022-09-01T19:21:02.648Z"
   },
   {
    "duration": 4,
    "start_time": "2022-09-01T19:38:39.041Z"
   },
   {
    "duration": 9,
    "start_time": "2022-09-01T19:46:22.293Z"
   },
   {
    "duration": 683,
    "start_time": "2022-09-01T19:46:52.657Z"
   },
   {
    "duration": 9,
    "start_time": "2022-09-01T19:46:57.965Z"
   },
   {
    "duration": 3,
    "start_time": "2022-09-01T20:03:12.055Z"
   },
   {
    "duration": 37,
    "start_time": "2022-09-01T20:06:15.437Z"
   },
   {
    "duration": 42,
    "start_time": "2022-09-01T20:06:51.243Z"
   },
   {
    "duration": 24,
    "start_time": "2022-09-01T20:06:55.119Z"
   },
   {
    "duration": 71,
    "start_time": "2022-09-02T18:54:46.257Z"
   },
   {
    "duration": 1108,
    "start_time": "2022-09-02T18:55:09.527Z"
   },
   {
    "duration": 165,
    "start_time": "2022-09-02T18:55:10.637Z"
   },
   {
    "duration": 25,
    "start_time": "2022-09-02T18:55:10.803Z"
   },
   {
    "duration": 105,
    "start_time": "2022-09-02T18:55:10.830Z"
   },
   {
    "duration": 10,
    "start_time": "2022-09-02T18:55:16.565Z"
   },
   {
    "duration": 8,
    "start_time": "2022-09-02T18:55:27.626Z"
   },
   {
    "duration": 5,
    "start_time": "2022-09-02T18:55:33.045Z"
   },
   {
    "duration": 9,
    "start_time": "2022-09-02T18:55:34.026Z"
   },
   {
    "duration": 21,
    "start_time": "2022-09-02T18:55:42.167Z"
   },
   {
    "duration": 11,
    "start_time": "2022-09-02T19:01:35.833Z"
   },
   {
    "duration": 17,
    "start_time": "2022-09-02T19:02:21.896Z"
   },
   {
    "duration": 17,
    "start_time": "2022-09-02T19:09:56.786Z"
   },
   {
    "duration": 2,
    "start_time": "2022-09-02T19:10:43.673Z"
   },
   {
    "duration": 16,
    "start_time": "2022-09-02T19:12:22.172Z"
   },
   {
    "duration": 16,
    "start_time": "2022-09-02T19:15:51.172Z"
   },
   {
    "duration": 17,
    "start_time": "2022-09-02T19:19:03.456Z"
   },
   {
    "duration": 10,
    "start_time": "2022-09-02T19:27:05.524Z"
   },
   {
    "duration": 13,
    "start_time": "2022-09-02T19:27:50.532Z"
   },
   {
    "duration": 14,
    "start_time": "2022-09-02T19:32:56.872Z"
   },
   {
    "duration": 4,
    "start_time": "2022-09-02T19:56:22.033Z"
   },
   {
    "duration": 8,
    "start_time": "2022-09-02T19:56:23.593Z"
   },
   {
    "duration": 5,
    "start_time": "2022-09-02T20:04:31.493Z"
   },
   {
    "duration": 5,
    "start_time": "2022-09-02T20:04:47.434Z"
   },
   {
    "duration": 4,
    "start_time": "2022-09-02T20:05:02.810Z"
   },
   {
    "duration": 4,
    "start_time": "2022-09-02T20:06:22.460Z"
   },
   {
    "duration": 13,
    "start_time": "2022-09-02T20:09:09.642Z"
   },
   {
    "duration": 8,
    "start_time": "2022-09-02T20:09:22.193Z"
   },
   {
    "duration": 8,
    "start_time": "2022-09-02T20:09:31.654Z"
   },
   {
    "duration": 3,
    "start_time": "2022-09-02T20:09:54.506Z"
   },
   {
    "duration": 47,
    "start_time": "2022-09-02T20:09:54.510Z"
   },
   {
    "duration": 12,
    "start_time": "2022-09-02T20:09:54.559Z"
   },
   {
    "duration": 12,
    "start_time": "2022-09-02T20:09:54.573Z"
   },
   {
    "duration": 0,
    "start_time": "2022-09-02T20:09:54.587Z"
   },
   {
    "duration": 0,
    "start_time": "2022-09-02T20:09:54.587Z"
   },
   {
    "duration": 9,
    "start_time": "2022-09-02T20:10:29.342Z"
   },
   {
    "duration": 8,
    "start_time": "2022-09-02T20:10:52.494Z"
   },
   {
    "duration": 1112,
    "start_time": "2022-09-02T20:11:15.578Z"
   },
   {
    "duration": 55,
    "start_time": "2022-09-02T20:11:16.691Z"
   },
   {
    "duration": 11,
    "start_time": "2022-09-02T20:11:16.748Z"
   },
   {
    "duration": 92,
    "start_time": "2022-09-02T20:11:22.130Z"
   },
   {
    "duration": 11,
    "start_time": "2022-09-02T20:11:37.307Z"
   },
   {
    "duration": 3,
    "start_time": "2022-09-02T20:11:40.686Z"
   },
   {
    "duration": 48,
    "start_time": "2022-09-02T20:11:40.691Z"
   },
   {
    "duration": 10,
    "start_time": "2022-09-02T20:11:40.741Z"
   },
   {
    "duration": 6,
    "start_time": "2022-09-02T20:11:40.753Z"
   },
   {
    "duration": 11,
    "start_time": "2022-09-02T20:11:52.439Z"
   },
   {
    "duration": 3,
    "start_time": "2022-09-02T20:12:24.866Z"
   },
   {
    "duration": 48,
    "start_time": "2022-09-02T20:12:24.871Z"
   },
   {
    "duration": 11,
    "start_time": "2022-09-02T20:12:24.920Z"
   },
   {
    "duration": 12,
    "start_time": "2022-09-02T20:12:24.932Z"
   },
   {
    "duration": 3,
    "start_time": "2022-09-02T20:12:41.717Z"
   },
   {
    "duration": 24,
    "start_time": "2022-09-02T20:12:48.770Z"
   },
   {
    "duration": 15,
    "start_time": "2022-09-02T20:13:04.490Z"
   },
   {
    "duration": 1091,
    "start_time": "2022-09-02T20:13:38.717Z"
   },
   {
    "duration": 54,
    "start_time": "2022-09-02T20:13:39.810Z"
   },
   {
    "duration": 13,
    "start_time": "2022-09-02T20:13:39.865Z"
   },
   {
    "duration": 22,
    "start_time": "2022-09-02T20:13:39.880Z"
   },
   {
    "duration": 5,
    "start_time": "2022-09-02T20:13:52.545Z"
   },
   {
    "duration": 6,
    "start_time": "2022-09-02T20:13:53.382Z"
   },
   {
    "duration": 14,
    "start_time": "2022-09-02T20:23:20.970Z"
   },
   {
    "duration": 14,
    "start_time": "2022-09-02T20:24:22.936Z"
   },
   {
    "duration": 19,
    "start_time": "2022-09-02T20:24:47.617Z"
   },
   {
    "duration": 16,
    "start_time": "2022-09-02T20:25:59.010Z"
   },
   {
    "duration": 19,
    "start_time": "2022-09-02T20:26:10.056Z"
   },
   {
    "duration": 6,
    "start_time": "2022-09-02T20:27:00.496Z"
   },
   {
    "duration": 8,
    "start_time": "2022-09-02T20:27:02.144Z"
   },
   {
    "duration": 99,
    "start_time": "2022-09-02T20:27:14.756Z"
   },
   {
    "duration": 4,
    "start_time": "2022-09-02T20:27:59.201Z"
   },
   {
    "duration": 207,
    "start_time": "2022-09-02T20:28:03.301Z"
   },
   {
    "duration": 1084,
    "start_time": "2022-09-05T20:01:54.551Z"
   },
   {
    "duration": 184,
    "start_time": "2022-09-05T20:01:55.637Z"
   },
   {
    "duration": 13,
    "start_time": "2022-09-05T20:01:55.822Z"
   },
   {
    "duration": 18,
    "start_time": "2022-09-05T20:01:55.837Z"
   },
   {
    "duration": 5,
    "start_time": "2022-09-05T20:01:55.857Z"
   },
   {
    "duration": 10,
    "start_time": "2022-09-05T20:01:55.864Z"
   },
   {
    "duration": 22,
    "start_time": "2022-09-05T20:01:55.892Z"
   },
   {
    "duration": 5,
    "start_time": "2022-09-05T20:01:55.916Z"
   },
   {
    "duration": 7,
    "start_time": "2022-09-05T20:01:55.923Z"
   },
   {
    "duration": 102,
    "start_time": "2022-09-05T20:14:42.724Z"
   },
   {
    "duration": 1113,
    "start_time": "2022-09-05T20:15:05.244Z"
   },
   {
    "duration": 60,
    "start_time": "2022-09-05T20:15:06.359Z"
   },
   {
    "duration": 14,
    "start_time": "2022-09-05T20:15:06.421Z"
   },
   {
    "duration": 17,
    "start_time": "2022-09-05T20:15:06.436Z"
   },
   {
    "duration": 5,
    "start_time": "2022-09-05T20:15:06.456Z"
   },
   {
    "duration": 31,
    "start_time": "2022-09-05T20:15:06.463Z"
   },
   {
    "duration": 135,
    "start_time": "2022-09-05T20:15:06.497Z"
   },
   {
    "duration": 25,
    "start_time": "2022-09-05T20:15:13.993Z"
   },
   {
    "duration": 33,
    "start_time": "2022-09-05T20:15:28.176Z"
   },
   {
    "duration": 20,
    "start_time": "2022-09-05T20:16:02.211Z"
   },
   {
    "duration": 12,
    "start_time": "2022-09-05T20:16:20.536Z"
   },
   {
    "duration": 19,
    "start_time": "2022-09-05T20:19:55.289Z"
   },
   {
    "duration": 19,
    "start_time": "2022-09-05T20:20:07.456Z"
   },
   {
    "duration": 14,
    "start_time": "2022-09-05T20:20:15.241Z"
   },
   {
    "duration": 6,
    "start_time": "2022-09-05T20:30:45.354Z"
   },
   {
    "duration": 9,
    "start_time": "2022-09-05T20:30:46.433Z"
   },
   {
    "duration": 4,
    "start_time": "2022-09-05T20:41:26.510Z"
   },
   {
    "duration": 28,
    "start_time": "2022-09-05T20:44:21.514Z"
   },
   {
    "duration": 11,
    "start_time": "2022-09-05T20:44:44.783Z"
   },
   {
    "duration": 566,
    "start_time": "2022-09-05T21:13:22.634Z"
   },
   {
    "duration": 118,
    "start_time": "2022-09-05T21:13:55.097Z"
   },
   {
    "duration": 157,
    "start_time": "2022-09-05T21:21:32.195Z"
   },
   {
    "duration": 1069,
    "start_time": "2022-09-07T20:21:46.052Z"
   },
   {
    "duration": 95,
    "start_time": "2022-09-07T20:21:47.122Z"
   },
   {
    "duration": 17,
    "start_time": "2022-09-07T20:21:47.219Z"
   },
   {
    "duration": 33,
    "start_time": "2022-09-07T20:21:47.238Z"
   },
   {
    "duration": 5,
    "start_time": "2022-09-07T20:21:47.274Z"
   },
   {
    "duration": 17,
    "start_time": "2022-09-07T20:21:47.280Z"
   },
   {
    "duration": 37,
    "start_time": "2022-09-07T20:21:47.298Z"
   },
   {
    "duration": 12,
    "start_time": "2022-09-07T20:21:47.337Z"
   },
   {
    "duration": 15,
    "start_time": "2022-09-07T20:21:47.351Z"
   },
   {
    "duration": 18,
    "start_time": "2022-09-07T20:21:47.368Z"
   },
   {
    "duration": 38,
    "start_time": "2022-09-07T20:21:47.388Z"
   },
   {
    "duration": 503,
    "start_time": "2022-09-07T20:21:47.428Z"
   },
   {
    "duration": 155,
    "start_time": "2022-09-07T20:21:47.933Z"
   },
   {
    "duration": 53,
    "start_time": "2022-09-07T20:32:05.325Z"
   },
   {
    "duration": 140,
    "start_time": "2022-09-07T20:33:02.643Z"
   },
   {
    "duration": 4,
    "start_time": "2022-09-07T20:33:24.091Z"
   },
   {
    "duration": 41,
    "start_time": "2022-09-07T20:33:32.963Z"
   },
   {
    "duration": 8,
    "start_time": "2022-09-07T20:39:40.781Z"
   },
   {
    "duration": 3,
    "start_time": "2022-09-07T20:48:08.121Z"
   },
   {
    "duration": 5,
    "start_time": "2022-09-07T20:49:00.768Z"
   },
   {
    "duration": 20,
    "start_time": "2022-09-07T20:50:13.503Z"
   },
   {
    "duration": 4,
    "start_time": "2022-09-07T20:50:19.262Z"
   },
   {
    "duration": 20,
    "start_time": "2022-09-07T20:50:23.998Z"
   },
   {
    "duration": 70,
    "start_time": "2022-09-07T20:51:45.064Z"
   },
   {
    "duration": 15,
    "start_time": "2022-09-07T20:53:00.864Z"
   },
   {
    "duration": 57,
    "start_time": "2022-09-07T20:53:01.812Z"
   },
   {
    "duration": 5,
    "start_time": "2022-09-07T20:57:38.761Z"
   },
   {
    "duration": 13,
    "start_time": "2022-09-07T20:57:40.872Z"
   },
   {
    "duration": 61,
    "start_time": "2022-09-07T20:58:17.470Z"
   },
   {
    "duration": 4,
    "start_time": "2022-09-07T20:58:24.328Z"
   },
   {
    "duration": 12,
    "start_time": "2022-09-07T20:58:25.925Z"
   },
   {
    "duration": 4,
    "start_time": "2022-09-07T20:58:38.521Z"
   },
   {
    "duration": 11,
    "start_time": "2022-09-07T20:58:39.239Z"
   },
   {
    "duration": 56,
    "start_time": "2022-09-07T20:58:40.022Z"
   },
   {
    "duration": 4,
    "start_time": "2022-09-07T20:58:42.376Z"
   },
   {
    "duration": 12,
    "start_time": "2022-09-07T20:58:43.432Z"
   },
   {
    "duration": 17,
    "start_time": "2022-09-07T20:58:44.328Z"
   },
   {
    "duration": 4,
    "start_time": "2022-09-07T21:04:46.697Z"
   },
   {
    "duration": 16,
    "start_time": "2022-09-07T21:04:47.297Z"
   },
   {
    "duration": 63,
    "start_time": "2022-09-07T21:04:48.019Z"
   },
   {
    "duration": 1137,
    "start_time": "2022-09-08T18:44:05.867Z"
   },
   {
    "duration": 105,
    "start_time": "2022-09-08T18:44:07.005Z"
   },
   {
    "duration": 13,
    "start_time": "2022-09-08T18:44:07.111Z"
   },
   {
    "duration": 21,
    "start_time": "2022-09-08T18:44:07.125Z"
   },
   {
    "duration": 5,
    "start_time": "2022-09-08T18:44:07.149Z"
   },
   {
    "duration": 10,
    "start_time": "2022-09-08T18:44:07.156Z"
   },
   {
    "duration": 42,
    "start_time": "2022-09-08T18:44:07.167Z"
   },
   {
    "duration": 12,
    "start_time": "2022-09-08T18:44:07.211Z"
   },
   {
    "duration": 5,
    "start_time": "2022-09-08T18:44:07.225Z"
   },
   {
    "duration": 10,
    "start_time": "2022-09-08T18:44:07.232Z"
   },
   {
    "duration": 33,
    "start_time": "2022-09-08T18:44:07.243Z"
   },
   {
    "duration": 559,
    "start_time": "2022-09-08T18:44:07.277Z"
   },
   {
    "duration": 152,
    "start_time": "2022-09-08T18:44:07.837Z"
   },
   {
    "duration": 58,
    "start_time": "2022-09-08T18:44:07.992Z"
   },
   {
    "duration": 4,
    "start_time": "2022-09-08T18:44:08.052Z"
   },
   {
    "duration": 19,
    "start_time": "2022-09-08T18:44:08.057Z"
   },
   {
    "duration": 73,
    "start_time": "2022-09-08T18:44:08.078Z"
   },
   {
    "duration": 4,
    "start_time": "2022-09-08T18:44:08.152Z"
   },
   {
    "duration": 15,
    "start_time": "2022-09-08T18:44:08.158Z"
   },
   {
    "duration": 24,
    "start_time": "2022-09-08T18:44:08.175Z"
   },
   {
    "duration": 9,
    "start_time": "2022-09-08T18:47:15.985Z"
   },
   {
    "duration": 56,
    "start_time": "2022-09-08T18:47:16.886Z"
   },
   {
    "duration": 4,
    "start_time": "2022-09-08T18:48:25.040Z"
   },
   {
    "duration": 9,
    "start_time": "2022-09-08T18:48:25.641Z"
   },
   {
    "duration": 24,
    "start_time": "2022-09-08T18:48:26.485Z"
   },
   {
    "duration": 125,
    "start_time": "2022-09-08T18:53:20.440Z"
   },
   {
    "duration": 189,
    "start_time": "2022-09-08T18:53:53.451Z"
   },
   {
    "duration": 293,
    "start_time": "2022-09-08T18:55:17.883Z"
   },
   {
    "duration": 1056,
    "start_time": "2022-09-08T19:06:39.316Z"
   },
   {
    "duration": 55,
    "start_time": "2022-09-08T19:06:40.374Z"
   },
   {
    "duration": 12,
    "start_time": "2022-09-08T19:06:40.430Z"
   },
   {
    "duration": 14,
    "start_time": "2022-09-08T19:06:40.443Z"
   },
   {
    "duration": 4,
    "start_time": "2022-09-08T19:06:40.459Z"
   },
   {
    "duration": 5,
    "start_time": "2022-09-08T19:06:40.464Z"
   },
   {
    "duration": 39,
    "start_time": "2022-09-08T19:06:40.470Z"
   },
   {
    "duration": 11,
    "start_time": "2022-09-08T19:06:40.510Z"
   },
   {
    "duration": 6,
    "start_time": "2022-09-08T19:06:40.522Z"
   },
   {
    "duration": 12,
    "start_time": "2022-09-08T19:06:40.529Z"
   },
   {
    "duration": 23,
    "start_time": "2022-09-08T19:06:40.542Z"
   },
   {
    "duration": 312,
    "start_time": "2022-09-08T19:06:40.567Z"
   },
   {
    "duration": 150,
    "start_time": "2022-09-08T19:06:40.880Z"
   },
   {
    "duration": 46,
    "start_time": "2022-09-08T19:06:41.032Z"
   },
   {
    "duration": 4,
    "start_time": "2022-09-08T19:06:41.079Z"
   },
   {
    "duration": 30,
    "start_time": "2022-09-08T19:06:41.084Z"
   },
   {
    "duration": 57,
    "start_time": "2022-09-08T19:06:41.116Z"
   },
   {
    "duration": 4,
    "start_time": "2022-09-08T19:06:41.175Z"
   },
   {
    "duration": 28,
    "start_time": "2022-09-08T19:06:41.181Z"
   },
   {
    "duration": 21,
    "start_time": "2022-09-08T19:06:41.210Z"
   },
   {
    "duration": 258,
    "start_time": "2022-09-08T19:06:41.232Z"
   },
   {
    "duration": 3179,
    "start_time": "2022-09-08T19:06:58.111Z"
   },
   {
    "duration": 3172,
    "start_time": "2022-09-08T19:07:25.685Z"
   },
   {
    "duration": 90,
    "start_time": "2022-09-08T19:10:46.023Z"
   },
   {
    "duration": 78,
    "start_time": "2022-09-08T19:11:03.938Z"
   },
   {
    "duration": 118,
    "start_time": "2022-09-08T19:12:09.615Z"
   },
   {
    "duration": 1175,
    "start_time": "2022-09-10T07:17:53.762Z"
   },
   {
    "duration": 183,
    "start_time": "2022-09-10T07:17:54.939Z"
   },
   {
    "duration": 14,
    "start_time": "2022-09-10T07:23:15.243Z"
   },
   {
    "duration": 5,
    "start_time": "2022-09-10T07:24:46.451Z"
   },
   {
    "duration": 15,
    "start_time": "2022-09-10T07:28:28.246Z"
   },
   {
    "duration": 100,
    "start_time": "2022-09-10T07:28:48.549Z"
   },
   {
    "duration": 5,
    "start_time": "2022-09-10T07:28:55.622Z"
   },
   {
    "duration": 5,
    "start_time": "2022-09-10T07:28:59.758Z"
   },
   {
    "duration": 19,
    "start_time": "2022-09-10T07:29:18.606Z"
   },
   {
    "duration": 13,
    "start_time": "2022-09-10T07:29:40.937Z"
   },
   {
    "duration": 12,
    "start_time": "2022-09-10T07:56:06.308Z"
   },
   {
    "duration": 8,
    "start_time": "2022-09-10T07:56:09.789Z"
   },
   {
    "duration": 10,
    "start_time": "2022-09-10T07:56:36.015Z"
   },
   {
    "duration": 14,
    "start_time": "2022-09-10T07:59:43.816Z"
   },
   {
    "duration": 10,
    "start_time": "2022-09-10T08:00:10.436Z"
   },
   {
    "duration": 11,
    "start_time": "2022-09-10T08:00:40.570Z"
   },
   {
    "duration": 8,
    "start_time": "2022-09-10T08:00:46.715Z"
   },
   {
    "duration": 4,
    "start_time": "2022-09-10T08:01:36.665Z"
   },
   {
    "duration": 11,
    "start_time": "2022-09-10T08:02:40.088Z"
   },
   {
    "duration": 1149,
    "start_time": "2022-09-10T08:03:04.711Z"
   },
   {
    "duration": 60,
    "start_time": "2022-09-10T08:03:05.862Z"
   },
   {
    "duration": 12,
    "start_time": "2022-09-10T08:03:05.923Z"
   },
   {
    "duration": 27,
    "start_time": "2022-09-10T08:03:05.938Z"
   },
   {
    "duration": 18,
    "start_time": "2022-09-10T08:03:05.967Z"
   },
   {
    "duration": 18,
    "start_time": "2022-09-10T08:03:05.987Z"
   },
   {
    "duration": 39,
    "start_time": "2022-09-10T08:03:06.006Z"
   },
   {
    "duration": 18,
    "start_time": "2022-09-10T08:03:06.047Z"
   },
   {
    "duration": 26,
    "start_time": "2022-09-10T08:03:06.067Z"
   },
   {
    "duration": 14,
    "start_time": "2022-09-10T08:03:06.095Z"
   },
   {
    "duration": 27,
    "start_time": "2022-09-10T08:03:06.110Z"
   },
   {
    "duration": 16,
    "start_time": "2022-09-10T08:03:06.139Z"
   },
   {
    "duration": 12,
    "start_time": "2022-09-10T08:03:31.011Z"
   },
   {
    "duration": 589,
    "start_time": "2022-09-10T08:07:21.827Z"
   },
   {
    "duration": 163,
    "start_time": "2022-09-10T08:27:42.160Z"
   },
   {
    "duration": 160,
    "start_time": "2022-09-10T09:29:49.767Z"
   },
   {
    "duration": 2692,
    "start_time": "2022-09-10T09:31:52.287Z"
   },
   {
    "duration": 117,
    "start_time": "2022-09-10T09:36:50.178Z"
   },
   {
    "duration": 130,
    "start_time": "2022-09-10T09:44:30.565Z"
   },
   {
    "duration": 11,
    "start_time": "2022-09-10T09:45:21.429Z"
   },
   {
    "duration": 13,
    "start_time": "2022-09-10T09:54:38.214Z"
   },
   {
    "duration": 19,
    "start_time": "2022-09-10T09:57:50.240Z"
   },
   {
    "duration": 161,
    "start_time": "2022-09-10T09:58:03.281Z"
   },
   {
    "duration": 167,
    "start_time": "2022-09-10T10:01:39.945Z"
   },
   {
    "duration": 2673,
    "start_time": "2022-09-10T10:02:11.080Z"
   },
   {
    "duration": 13,
    "start_time": "2022-09-10T10:02:52.274Z"
   },
   {
    "duration": 13,
    "start_time": "2022-09-10T10:04:50.458Z"
   },
   {
    "duration": 19,
    "start_time": "2022-09-10T10:12:30.269Z"
   },
   {
    "duration": 16,
    "start_time": "2022-09-10T10:13:15.791Z"
   },
   {
    "duration": 12,
    "start_time": "2022-09-10T10:13:32.510Z"
   },
   {
    "duration": 621,
    "start_time": "2022-09-10T10:16:45.239Z"
   },
   {
    "duration": 210,
    "start_time": "2022-09-10T10:17:29.791Z"
   },
   {
    "duration": 38,
    "start_time": "2022-09-10T10:17:59.392Z"
   },
   {
    "duration": 39,
    "start_time": "2022-09-10T10:18:01.808Z"
   },
   {
    "duration": 1167,
    "start_time": "2022-09-10T10:18:12.456Z"
   },
   {
    "duration": 59,
    "start_time": "2022-09-10T10:18:13.625Z"
   },
   {
    "duration": 14,
    "start_time": "2022-09-10T10:18:13.685Z"
   },
   {
    "duration": 17,
    "start_time": "2022-09-10T10:18:13.701Z"
   },
   {
    "duration": 7,
    "start_time": "2022-09-10T10:18:13.720Z"
   },
   {
    "duration": 11,
    "start_time": "2022-09-10T10:18:13.728Z"
   },
   {
    "duration": 24,
    "start_time": "2022-09-10T10:18:13.741Z"
   },
   {
    "duration": 30,
    "start_time": "2022-09-10T10:18:13.767Z"
   },
   {
    "duration": 7,
    "start_time": "2022-09-10T10:18:13.799Z"
   },
   {
    "duration": 8,
    "start_time": "2022-09-10T10:18:13.810Z"
   },
   {
    "duration": 32,
    "start_time": "2022-09-10T10:18:13.821Z"
   },
   {
    "duration": 39,
    "start_time": "2022-09-10T10:18:13.854Z"
   },
   {
    "duration": 393,
    "start_time": "2022-09-10T10:18:13.895Z"
   },
   {
    "duration": 122,
    "start_time": "2022-09-10T10:18:14.291Z"
   },
   {
    "duration": 171,
    "start_time": "2022-09-10T10:18:14.415Z"
   },
   {
    "duration": 2673,
    "start_time": "2022-09-10T10:18:14.592Z"
   },
   {
    "duration": 689,
    "start_time": "2022-09-10T10:18:17.267Z"
   },
   {
    "duration": 55,
    "start_time": "2022-09-10T10:18:17.958Z"
   },
   {
    "duration": 874,
    "start_time": "2022-09-10T10:18:36.492Z"
   },
   {
    "duration": 24,
    "start_time": "2022-09-10T10:18:58.351Z"
   },
   {
    "duration": 1552,
    "start_time": "2022-09-10T10:20:01.039Z"
   },
   {
    "duration": 141,
    "start_time": "2022-09-10T10:20:15.063Z"
   },
   {
    "duration": 217,
    "start_time": "2022-09-10T10:21:17.181Z"
   },
   {
    "duration": 5,
    "start_time": "2022-09-10T10:21:45.985Z"
   },
   {
    "duration": 61,
    "start_time": "2022-09-10T10:21:45.993Z"
   },
   {
    "duration": 17,
    "start_time": "2022-09-10T10:21:46.056Z"
   },
   {
    "duration": 19,
    "start_time": "2022-09-10T10:21:46.076Z"
   },
   {
    "duration": 5,
    "start_time": "2022-09-10T10:21:46.098Z"
   },
   {
    "duration": 11,
    "start_time": "2022-09-10T10:21:46.105Z"
   },
   {
    "duration": 22,
    "start_time": "2022-09-10T10:21:46.117Z"
   },
   {
    "duration": 12,
    "start_time": "2022-09-10T10:21:46.141Z"
   },
   {
    "duration": 37,
    "start_time": "2022-09-10T10:21:46.155Z"
   },
   {
    "duration": 8,
    "start_time": "2022-09-10T10:21:46.194Z"
   },
   {
    "duration": 53,
    "start_time": "2022-09-10T10:21:46.205Z"
   },
   {
    "duration": 15,
    "start_time": "2022-09-10T10:21:46.259Z"
   },
   {
    "duration": 140,
    "start_time": "2022-09-10T10:21:46.275Z"
   },
   {
    "duration": 141,
    "start_time": "2022-09-10T10:21:46.417Z"
   },
   {
    "duration": 179,
    "start_time": "2022-09-10T10:21:46.560Z"
   },
   {
    "duration": 2641,
    "start_time": "2022-09-10T10:21:46.741Z"
   },
   {
    "duration": 121,
    "start_time": "2022-09-10T10:21:49.384Z"
   },
   {
    "duration": 2298,
    "start_time": "2022-09-10T10:22:17.693Z"
   },
   {
    "duration": 87,
    "start_time": "2022-09-10T10:25:34.118Z"
   },
   {
    "duration": 1254,
    "start_time": "2022-09-11T18:44:19.396Z"
   },
   {
    "duration": 193,
    "start_time": "2022-09-11T18:44:20.653Z"
   },
   {
    "duration": 15,
    "start_time": "2022-09-11T18:44:20.847Z"
   },
   {
    "duration": 15,
    "start_time": "2022-09-11T18:44:20.864Z"
   },
   {
    "duration": 4,
    "start_time": "2022-09-11T18:44:20.881Z"
   },
   {
    "duration": 15,
    "start_time": "2022-09-11T18:44:20.887Z"
   },
   {
    "duration": 22,
    "start_time": "2022-09-11T18:44:20.904Z"
   },
   {
    "duration": 12,
    "start_time": "2022-09-11T18:44:20.927Z"
   },
   {
    "duration": 9,
    "start_time": "2022-09-11T18:44:20.940Z"
   },
   {
    "duration": 8,
    "start_time": "2022-09-11T18:44:20.952Z"
   },
   {
    "duration": 46,
    "start_time": "2022-09-11T18:44:20.962Z"
   },
   {
    "duration": 12,
    "start_time": "2022-09-11T18:44:21.010Z"
   },
   {
    "duration": 605,
    "start_time": "2022-09-11T18:44:21.024Z"
   },
   {
    "duration": 122,
    "start_time": "2022-09-11T18:44:21.631Z"
   },
   {
    "duration": 200,
    "start_time": "2022-09-11T18:44:21.755Z"
   },
   {
    "duration": 2248,
    "start_time": "2022-09-11T18:44:21.958Z"
   },
   {
    "duration": 291,
    "start_time": "2022-09-11T18:44:24.208Z"
   },
   {
    "duration": 195,
    "start_time": "2022-09-11T18:44:24.501Z"
   },
   {
    "duration": 36,
    "start_time": "2022-09-11T18:46:37.533Z"
   },
   {
    "duration": 30,
    "start_time": "2022-09-11T18:47:53.360Z"
   },
   {
    "duration": 31,
    "start_time": "2022-09-11T18:49:20.417Z"
   },
   {
    "duration": 38,
    "start_time": "2022-09-11T18:49:26.777Z"
   },
   {
    "duration": 40,
    "start_time": "2022-09-11T18:49:36.833Z"
   },
   {
    "duration": 47,
    "start_time": "2022-09-11T18:53:26.544Z"
   },
   {
    "duration": 158,
    "start_time": "2022-09-11T18:54:33.539Z"
   },
   {
    "duration": 4,
    "start_time": "2022-09-11T19:00:53.436Z"
   },
   {
    "duration": 12,
    "start_time": "2022-09-11T19:00:54.466Z"
   },
   {
    "duration": 37,
    "start_time": "2022-09-11T19:00:55.415Z"
   },
   {
    "duration": 60,
    "start_time": "2022-09-11T19:00:56.482Z"
   },
   {
    "duration": 274,
    "start_time": "2022-09-11T19:00:57.422Z"
   },
   {
    "duration": 4,
    "start_time": "2022-09-11T19:03:16.792Z"
   },
   {
    "duration": 10,
    "start_time": "2022-09-11T19:03:19.913Z"
   },
   {
    "duration": 23,
    "start_time": "2022-09-11T19:03:21.853Z"
   },
   {
    "duration": 33,
    "start_time": "2022-09-11T19:03:23.116Z"
   },
   {
    "duration": 115,
    "start_time": "2022-09-11T19:03:24.578Z"
   },
   {
    "duration": 50,
    "start_time": "2022-09-11T19:05:05.689Z"
   },
   {
    "duration": 138,
    "start_time": "2022-09-11T19:25:16.741Z"
   },
   {
    "duration": 4,
    "start_time": "2022-09-11T19:25:52.722Z"
   },
   {
    "duration": 17,
    "start_time": "2022-09-11T19:25:59.494Z"
   },
   {
    "duration": 4,
    "start_time": "2022-09-11T19:26:18.242Z"
   },
   {
    "duration": 138,
    "start_time": "2022-09-11T19:26:20.769Z"
   },
   {
    "duration": 13,
    "start_time": "2022-09-11T19:27:05.266Z"
   },
   {
    "duration": 16,
    "start_time": "2022-09-11T19:27:15.206Z"
   },
   {
    "duration": 4,
    "start_time": "2022-09-11T19:27:39.530Z"
   },
   {
    "duration": 12,
    "start_time": "2022-09-11T19:27:54.459Z"
   },
   {
    "duration": 13,
    "start_time": "2022-09-11T19:35:47.627Z"
   },
   {
    "duration": 44,
    "start_time": "2022-09-13T20:21:56.684Z"
   },
   {
    "duration": 1528,
    "start_time": "2022-09-13T20:22:01.540Z"
   },
   {
    "duration": 177,
    "start_time": "2022-09-13T20:22:03.070Z"
   },
   {
    "duration": 12,
    "start_time": "2022-09-13T20:22:03.249Z"
   },
   {
    "duration": 19,
    "start_time": "2022-09-13T20:22:03.262Z"
   },
   {
    "duration": 4,
    "start_time": "2022-09-13T20:22:03.283Z"
   },
   {
    "duration": 12,
    "start_time": "2022-09-13T20:22:03.289Z"
   },
   {
    "duration": 22,
    "start_time": "2022-09-13T20:22:03.303Z"
   },
   {
    "duration": 10,
    "start_time": "2022-09-13T20:22:03.326Z"
   },
   {
    "duration": 10,
    "start_time": "2022-09-13T20:22:03.338Z"
   },
   {
    "duration": 11,
    "start_time": "2022-09-13T20:22:03.350Z"
   },
   {
    "duration": 32,
    "start_time": "2022-09-13T20:22:03.362Z"
   },
   {
    "duration": 10,
    "start_time": "2022-09-13T20:22:03.396Z"
   },
   {
    "duration": 123,
    "start_time": "2022-09-13T20:22:03.408Z"
   },
   {
    "duration": 109,
    "start_time": "2022-09-13T20:22:03.533Z"
   },
   {
    "duration": 145,
    "start_time": "2022-09-13T20:22:03.643Z"
   },
   {
    "duration": 9,
    "start_time": "2022-09-13T20:22:03.789Z"
   },
   {
    "duration": 10,
    "start_time": "2022-09-13T20:23:01.451Z"
   },
   {
    "duration": 88,
    "start_time": "2022-09-13T20:23:25.832Z"
   },
   {
    "duration": 11,
    "start_time": "2022-09-13T20:23:28.854Z"
   },
   {
    "duration": 7,
    "start_time": "2022-09-13T20:24:11.201Z"
   },
   {
    "duration": 52,
    "start_time": "2022-09-13T20:24:11.210Z"
   },
   {
    "duration": 12,
    "start_time": "2022-09-13T20:24:11.263Z"
   },
   {
    "duration": 13,
    "start_time": "2022-09-13T20:24:11.277Z"
   },
   {
    "duration": 4,
    "start_time": "2022-09-13T20:24:11.292Z"
   },
   {
    "duration": 5,
    "start_time": "2022-09-13T20:24:11.298Z"
   },
   {
    "duration": 17,
    "start_time": "2022-09-13T20:24:11.305Z"
   },
   {
    "duration": 10,
    "start_time": "2022-09-13T20:24:11.324Z"
   },
   {
    "duration": 7,
    "start_time": "2022-09-13T20:24:11.335Z"
   },
   {
    "duration": 40,
    "start_time": "2022-09-13T20:24:11.343Z"
   },
   {
    "duration": 36,
    "start_time": "2022-09-13T20:24:11.385Z"
   },
   {
    "duration": 11,
    "start_time": "2022-09-13T20:24:11.423Z"
   },
   {
    "duration": 131,
    "start_time": "2022-09-13T20:24:11.436Z"
   },
   {
    "duration": 120,
    "start_time": "2022-09-13T20:24:11.578Z"
   },
   {
    "duration": 158,
    "start_time": "2022-09-13T20:24:11.700Z"
   },
   {
    "duration": 21,
    "start_time": "2022-09-13T20:24:11.860Z"
   },
   {
    "duration": 19,
    "start_time": "2022-09-13T20:24:11.882Z"
   },
   {
    "duration": 0,
    "start_time": "2022-09-13T20:24:11.902Z"
   },
   {
    "duration": 19,
    "start_time": "2022-09-13T20:24:34.653Z"
   },
   {
    "duration": 2005,
    "start_time": "2022-09-13T20:24:45.751Z"
   },
   {
    "duration": 11,
    "start_time": "2022-09-13T20:24:54.796Z"
   },
   {
    "duration": 126,
    "start_time": "2022-09-13T20:25:07.856Z"
   },
   {
    "duration": 10,
    "start_time": "2022-09-13T20:25:30.540Z"
   },
   {
    "duration": 13,
    "start_time": "2022-09-13T20:31:02.489Z"
   },
   {
    "duration": 4,
    "start_time": "2022-09-13T20:31:33.729Z"
   },
   {
    "duration": 60,
    "start_time": "2022-09-13T20:31:33.735Z"
   },
   {
    "duration": 13,
    "start_time": "2022-09-13T20:31:33.796Z"
   },
   {
    "duration": 12,
    "start_time": "2022-09-13T20:31:33.811Z"
   },
   {
    "duration": 5,
    "start_time": "2022-09-13T20:31:33.826Z"
   },
   {
    "duration": 25,
    "start_time": "2022-09-13T20:31:33.833Z"
   },
   {
    "duration": 37,
    "start_time": "2022-09-13T20:31:33.860Z"
   },
   {
    "duration": 15,
    "start_time": "2022-09-13T20:31:33.899Z"
   },
   {
    "duration": 8,
    "start_time": "2022-09-13T20:31:33.916Z"
   },
   {
    "duration": 9,
    "start_time": "2022-09-13T20:31:33.926Z"
   },
   {
    "duration": 54,
    "start_time": "2022-09-13T20:31:33.937Z"
   },
   {
    "duration": 12,
    "start_time": "2022-09-13T20:31:33.993Z"
   },
   {
    "duration": 165,
    "start_time": "2022-09-13T20:31:34.006Z"
   },
   {
    "duration": 111,
    "start_time": "2022-09-13T20:31:34.174Z"
   },
   {
    "duration": 153,
    "start_time": "2022-09-13T20:31:34.286Z"
   },
   {
    "duration": 11,
    "start_time": "2022-09-13T20:31:34.441Z"
   },
   {
    "duration": 1999,
    "start_time": "2022-09-13T20:31:34.454Z"
   },
   {
    "duration": 24,
    "start_time": "2022-09-13T20:31:36.455Z"
   },
   {
    "duration": 198,
    "start_time": "2022-09-13T20:31:36.481Z"
   },
   {
    "duration": 114,
    "start_time": "2022-09-13T20:31:36.681Z"
   },
   {
    "duration": 204,
    "start_time": "2022-09-13T20:31:36.796Z"
   },
   {
    "duration": 39,
    "start_time": "2022-09-13T20:31:37.001Z"
   },
   {
    "duration": 236,
    "start_time": "2022-09-13T20:31:37.041Z"
   },
   {
    "duration": 4,
    "start_time": "2022-09-13T20:31:37.280Z"
   },
   {
    "duration": 98,
    "start_time": "2022-09-13T20:31:37.286Z"
   },
   {
    "duration": 35,
    "start_time": "2022-09-13T20:31:37.386Z"
   },
   {
    "duration": 63,
    "start_time": "2022-09-13T20:31:37.422Z"
   },
   {
    "duration": 191,
    "start_time": "2022-09-13T20:31:37.487Z"
   },
   {
    "duration": 101,
    "start_time": "2022-09-13T20:31:37.680Z"
   },
   {
    "duration": 16,
    "start_time": "2022-09-13T20:31:37.783Z"
   },
   {
    "duration": 43,
    "start_time": "2022-09-13T20:31:37.802Z"
   },
   {
    "duration": 39,
    "start_time": "2022-09-13T20:31:37.847Z"
   },
   {
    "duration": 96,
    "start_time": "2022-09-13T20:31:37.890Z"
   },
   {
    "duration": 134,
    "start_time": "2022-09-13T20:31:38.076Z"
   },
   {
    "duration": 12,
    "start_time": "2022-09-13T20:31:38.211Z"
   },
   {
    "duration": 13,
    "start_time": "2022-09-13T20:31:46.276Z"
   },
   {
    "duration": 107,
    "start_time": "2022-09-13T20:31:48.704Z"
   },
   {
    "duration": 10,
    "start_time": "2022-09-13T20:31:49.734Z"
   },
   {
    "duration": 111,
    "start_time": "2022-09-13T20:33:09.561Z"
   },
   {
    "duration": 6,
    "start_time": "2022-09-13T20:33:38.633Z"
   },
   {
    "duration": 6,
    "start_time": "2022-09-13T20:33:43.674Z"
   },
   {
    "duration": 11,
    "start_time": "2022-09-13T20:33:53.202Z"
   },
   {
    "duration": 11,
    "start_time": "2022-09-13T20:34:41.047Z"
   },
   {
    "duration": 1546,
    "start_time": "2022-09-13T20:35:16.468Z"
   },
   {
    "duration": 52,
    "start_time": "2022-09-13T20:35:18.016Z"
   },
   {
    "duration": 11,
    "start_time": "2022-09-13T20:35:18.069Z"
   },
   {
    "duration": 12,
    "start_time": "2022-09-13T20:35:18.082Z"
   },
   {
    "duration": 4,
    "start_time": "2022-09-13T20:35:18.095Z"
   },
   {
    "duration": 5,
    "start_time": "2022-09-13T20:35:18.100Z"
   },
   {
    "duration": 18,
    "start_time": "2022-09-13T20:35:18.107Z"
   },
   {
    "duration": 10,
    "start_time": "2022-09-13T20:35:18.127Z"
   },
   {
    "duration": 7,
    "start_time": "2022-09-13T20:35:18.138Z"
   },
   {
    "duration": 37,
    "start_time": "2022-09-13T20:35:18.147Z"
   },
   {
    "duration": 24,
    "start_time": "2022-09-13T20:35:18.186Z"
   },
   {
    "duration": 11,
    "start_time": "2022-09-13T20:35:18.211Z"
   },
   {
    "duration": 122,
    "start_time": "2022-09-13T20:35:18.223Z"
   },
   {
    "duration": 105,
    "start_time": "2022-09-13T20:35:18.346Z"
   },
   {
    "duration": 141,
    "start_time": "2022-09-13T20:35:18.452Z"
   },
   {
    "duration": 9,
    "start_time": "2022-09-13T20:35:18.595Z"
   },
   {
    "duration": 1863,
    "start_time": "2022-09-13T20:35:18.605Z"
   },
   {
    "duration": 17,
    "start_time": "2022-09-13T20:35:20.469Z"
   },
   {
    "duration": 100,
    "start_time": "2022-09-13T20:35:20.487Z"
   },
   {
    "duration": 102,
    "start_time": "2022-09-13T20:35:20.677Z"
   },
   {
    "duration": 110,
    "start_time": "2022-09-13T20:35:20.781Z"
   },
   {
    "duration": 39,
    "start_time": "2022-09-13T20:35:20.893Z"
   },
   {
    "duration": 148,
    "start_time": "2022-09-13T20:35:20.934Z"
   },
   {
    "duration": 94,
    "start_time": "2022-09-13T20:35:21.084Z"
   },
   {
    "duration": 14,
    "start_time": "2022-09-13T20:35:21.179Z"
   },
   {
    "duration": 34,
    "start_time": "2022-09-13T20:35:21.195Z"
   },
   {
    "duration": 88,
    "start_time": "2022-09-13T20:35:21.231Z"
   },
   {
    "duration": 159,
    "start_time": "2022-09-13T20:35:21.322Z"
   },
   {
    "duration": 5,
    "start_time": "2022-09-13T20:35:21.482Z"
   },
   {
    "duration": 102,
    "start_time": "2022-09-13T20:35:21.489Z"
   },
   {
    "duration": 16,
    "start_time": "2022-09-13T20:35:21.592Z"
   },
   {
    "duration": 92,
    "start_time": "2022-09-13T20:35:21.610Z"
   },
   {
    "duration": 176,
    "start_time": "2022-09-13T20:35:21.704Z"
   },
   {
    "duration": 127,
    "start_time": "2022-09-13T20:35:21.885Z"
   },
   {
    "duration": 11,
    "start_time": "2022-09-13T20:35:22.014Z"
   },
   {
    "duration": 11,
    "start_time": "2022-09-13T20:35:22.026Z"
   },
   {
    "duration": 128,
    "start_time": "2022-09-13T20:35:22.038Z"
   },
   {
    "duration": 16,
    "start_time": "2022-09-13T20:35:22.168Z"
   },
   {
    "duration": 1337,
    "start_time": "2022-09-13T21:16:41.849Z"
   },
   {
    "duration": 50,
    "start_time": "2022-09-13T21:16:43.188Z"
   },
   {
    "duration": 11,
    "start_time": "2022-09-13T21:16:43.240Z"
   },
   {
    "duration": 12,
    "start_time": "2022-09-13T21:16:43.252Z"
   },
   {
    "duration": 5,
    "start_time": "2022-09-13T21:16:43.265Z"
   },
   {
    "duration": 13,
    "start_time": "2022-09-13T21:16:43.272Z"
   },
   {
    "duration": 26,
    "start_time": "2022-09-13T21:16:43.286Z"
   },
   {
    "duration": 11,
    "start_time": "2022-09-13T21:16:43.314Z"
   },
   {
    "duration": 12,
    "start_time": "2022-09-13T21:16:43.326Z"
   },
   {
    "duration": 23,
    "start_time": "2022-09-13T21:16:43.339Z"
   },
   {
    "duration": 37,
    "start_time": "2022-09-13T21:16:43.363Z"
   },
   {
    "duration": 11,
    "start_time": "2022-09-13T21:16:43.401Z"
   },
   {
    "duration": 120,
    "start_time": "2022-09-13T21:16:43.414Z"
   },
   {
    "duration": 104,
    "start_time": "2022-09-13T21:16:43.538Z"
   },
   {
    "duration": 139,
    "start_time": "2022-09-13T21:16:43.644Z"
   },
   {
    "duration": 8,
    "start_time": "2022-09-13T21:16:43.784Z"
   },
   {
    "duration": 1788,
    "start_time": "2022-09-13T21:16:43.793Z"
   },
   {
    "duration": 10,
    "start_time": "2022-09-13T21:16:45.583Z"
   },
   {
    "duration": 186,
    "start_time": "2022-09-13T21:16:45.594Z"
   },
   {
    "duration": 106,
    "start_time": "2022-09-13T21:16:45.782Z"
   },
   {
    "duration": 194,
    "start_time": "2022-09-13T21:16:45.889Z"
   },
   {
    "duration": 40,
    "start_time": "2022-09-13T21:16:46.085Z"
   },
   {
    "duration": 150,
    "start_time": "2022-09-13T21:16:46.127Z"
   },
   {
    "duration": 4,
    "start_time": "2022-09-13T21:16:46.281Z"
   },
   {
    "duration": 10,
    "start_time": "2022-09-13T21:16:46.377Z"
   },
   {
    "duration": 30,
    "start_time": "2022-09-13T21:16:46.389Z"
   },
   {
    "duration": 69,
    "start_time": "2022-09-13T21:16:46.421Z"
   },
   {
    "duration": 190,
    "start_time": "2022-09-13T21:16:46.491Z"
   },
   {
    "duration": 94,
    "start_time": "2022-09-13T21:16:46.683Z"
   },
   {
    "duration": 10,
    "start_time": "2022-09-13T21:16:46.779Z"
   },
   {
    "duration": 94,
    "start_time": "2022-09-13T21:16:46.792Z"
   },
   {
    "duration": 26,
    "start_time": "2022-09-13T21:16:46.887Z"
   },
   {
    "duration": 71,
    "start_time": "2022-09-13T21:16:46.914Z"
   },
   {
    "duration": 217,
    "start_time": "2022-09-13T21:16:46.986Z"
   },
   {
    "duration": 11,
    "start_time": "2022-09-13T21:16:47.205Z"
   },
   {
    "duration": 10,
    "start_time": "2022-09-13T21:16:47.217Z"
   },
   {
    "duration": 138,
    "start_time": "2022-09-13T21:16:47.228Z"
   },
   {
    "duration": 19,
    "start_time": "2022-09-13T21:16:47.368Z"
   }
  ],
  "kernelspec": {
   "display_name": "Python 3 (ipykernel)",
   "language": "python",
   "name": "python3"
  },
  "language_info": {
   "codemirror_mode": {
    "name": "ipython",
    "version": 3
   },
   "file_extension": ".py",
   "mimetype": "text/x-python",
   "name": "python",
   "nbconvert_exporter": "python",
   "pygments_lexer": "ipython3",
   "version": "3.9.5"
  },
  "toc": {
   "base_numbering": 1,
   "nav_menu": {},
   "number_sections": true,
   "sideBar": true,
   "skip_h1_title": true,
   "title_cell": "Содержание",
   "title_sidebar": "Contents",
   "toc_cell": true,
   "toc_position": {
    "height": "calc(100% - 180px)",
    "left": "10px",
    "top": "150px",
    "width": "366.188px"
   },
   "toc_section_display": true,
   "toc_window_display": false
  }
 },
 "nbformat": 4,
 "nbformat_minor": 2
}
